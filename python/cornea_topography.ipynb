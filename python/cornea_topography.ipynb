{
 "cells": [
  {
   "cell_type": "markdown",
   "metadata": {},
   "source": [
    "# 读取角膜地形图"
   ]
  },
  {
   "cell_type": "markdown",
   "metadata": {},
   "source": [
    "## 必要的函数库"
   ]
  },
  {
   "cell_type": "code",
   "execution_count": 1,
   "metadata": {
    "ExecuteTime": {
     "end_time": "2017-11-05T15:36:30.172426Z",
     "start_time": "2017-11-05T15:36:30.165431Z"
    },
    "collapsed": true
   },
   "outputs": [],
   "source": [
    "import pandas as pd\n",
    "from pandas import DataFrame, Series\n",
    "import re\n",
    "import os"
   ]
  },
  {
   "cell_type": "markdown",
   "metadata": {},
   "source": [
    "## 读取 Sirius  角膜地形图"
   ]
  },
  {
   "cell_type": "markdown",
   "metadata": {},
   "source": [
    "Sirius 角膜地形图. 数据存储为CSV文件. \n",
    "除Radii数据之外, 其他数据的描述以极座标方式描述角膜, 每一类数据共31行, 256列. \n",
    "\n",
    "read_sirius函数需要两个参数: \n",
    "* filepath_or_buffer:  一般来说是文件名\n",
    "* catalog:  需要获取的数据类别. 包含的类别有: \n",
    "  * 'Radii'                        \n",
    "  * 'CornealThickness'              \n",
    "  * 'ElevationAnterior'\n",
    "  * 'ElevationPosterior'\n",
    "  * 'RefractiveEquivalentPower'\n",
    "  * 'RefractiveFrontalPowerAnterior'\n",
    "  * 'RefractiveFrontalPowerPosterior'\n",
    "  * 'SagittalAnterior'\n",
    "  * 'SagittalPosterior'\n",
    "  * 'TangentialAnterior'\n",
    "  * 'TangentialPosterior'\n",
    "  \n",
    "** 务必注意类别名称的大小写 **\n"
   ]
  },
  {
   "cell_type": "code",
   "execution_count": 58,
   "metadata": {
    "ExecuteTime": {
     "end_time": "2017-11-05T16:39:13.454741Z",
     "start_time": "2017-11-05T16:39:13.295766Z"
    }
   },
   "outputs": [],
   "source": [
    "def read_sirius(filepath_or_buffer,catalog):\n",
    "    # based on Sirius CSV\n",
    "    catalog_dict={\n",
    "        'Radii':                           {\"skiprows\":1, \"nrows\":1},\n",
    "        'CornealThickness':                {\"skiprows\":3, \"nrows\":31},\n",
    "        'ElevationAnterior':               {\"skiprows\":35, \"nrows\":31},\n",
    "        'ElevationPosterior':              {\"skiprows\":67, \"nrows\":31},\n",
    "        'RefractiveEquivalentPower':       {\"skiprows\":99, \"nrows\":31},\n",
    "        'RefractiveFrontalPowerAnterior':  {\"skiprows\":131, \"nrows\":31},\n",
    "        'RefractiveFrontalPowerPosterior': {\"skiprows\":163, \"nrows\":31},\n",
    "        'SagittalAnterior':                {\"skiprows\":195, \"nrows\":31},\n",
    "        'SagittalPosterior':               {\"skiprows\":227, \"nrows\":31},\n",
    "        'TangentialAnterior':              {\"skiprows\":259, \"nrows\":31},\n",
    "        'TangentialPosterior':             {\"skiprows\":291, \"nrows\":31}\n",
    "    }\n",
    "    # extract skiprows and nrows from dict\n",
    "    s=catalog_dict[catalog][\"skiprows\"]\n",
    "    n=catalog_dict[catalog][\"nrows\"]\n",
    "    \n",
    "    # read CSV after skiprows and get nrows\n",
    "    sirius_data=pd.read_csv(filepath_or_buffer,\n",
    "                        skiprows=range(s),\n",
    "                        header=None,\n",
    "                        nrows=n,\n",
    "                        sep=';')\n",
    "    \n",
    "    # delete the last column. Is there any better method?\n",
    "    last_column_name= sirius_data.columns[-1]\n",
    "    del sirius_data[last_column_name]\n",
    "    \n",
    "    return sirius_data\n"
   ]
  },
  {
   "cell_type": "code",
   "execution_count": 61,
   "metadata": {
    "ExecuteTime": {
     "end_time": "2017-11-05T16:39:57.473169Z",
     "start_time": "2017-11-05T16:39:57.461968Z"
    }
   },
   "outputs": [],
   "source": [
    "# 测试用: \n",
    "if __name__==\"__main__\" and False:\n",
    "    fpath=os.path.join('..','testdata')\n",
    "    fname='sirius.csv'\n",
    "    filename=os.path.join(fpath,fname)\n",
    "    catalog='CornealThickness'\n",
    "    data=read_sirius(filename,catalog)\n",
    "    \n",
    "    print(data)"
   ]
  },
  {
   "cell_type": "code",
   "execution_count": null,
   "metadata": {
    "collapsed": true
   },
   "outputs": [],
   "source": []
  }
 ],
 "metadata": {
  "kernelspec": {
   "display_name": "Python 3",
   "language": "python",
   "name": "python3"
  },
  "language_info": {
   "codemirror_mode": {
    "name": "ipython",
    "version": 3
   },
   "file_extension": ".py",
   "mimetype": "text/x-python",
   "name": "python",
   "nbconvert_exporter": "python",
   "pygments_lexer": "ipython3",
   "version": "3.5.2"
  },
  "toc": {
   "colors": {
    "hover_highlight": "#DAA520",
    "navigate_num": "#000000",
    "navigate_text": "#333333",
    "running_highlight": "#FF0000",
    "selected_highlight": "#FFD700",
    "sidebar_border": "#EEEEEE",
    "wrapper_background": "#FFFFFF"
   },
   "moveMenuLeft": true,
   "nav_menu": {
    "height": "102px",
    "width": "254px"
   },
   "navigate_menu": true,
   "number_sections": true,
   "sideBar": true,
   "threshold": 4,
   "toc_cell": false,
   "toc_section_display": "block",
   "toc_window_display": false,
   "widenNotebook": false
  }
 },
 "nbformat": 4,
 "nbformat_minor": 2
}
