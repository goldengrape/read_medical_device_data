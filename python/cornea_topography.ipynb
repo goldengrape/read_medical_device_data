{
 "cells": [
  {
   "cell_type": "markdown",
   "metadata": {},
   "source": [
    "# 读取角膜地形图"
   ]
  },
  {
   "cell_type": "markdown",
   "metadata": {},
   "source": [
    "从数据文件中读取所需要的数据, 并转换成Pandas DataFrame的形式. \n",
    "\n",
    "Pandas DataFrame支持多种索引方式, 并且能够方便转换成numpy array进行运算. "
   ]
  },
  {
   "cell_type": "markdown",
   "metadata": {},
   "source": [
    "## 必要的函数库\n",
    "\n",
    "* pandas: 常用数据读写处理的工具包, 如果未安装应考虑使用anaconda安装\n"
   ]
  },
  {
   "cell_type": "code",
   "execution_count": 6,
   "metadata": {
    "ExecuteTime": {
     "end_time": "2017-11-05T18:30:29.143041Z",
     "start_time": "2017-11-05T18:30:29.135547Z"
    },
    "collapsed": true
   },
   "outputs": [],
   "source": [
    "import pandas as pd\n",
    "# import numpy as np\n",
    "from pandas import DataFrame, Series\n",
    "import re\n",
    "import os"
   ]
  },
  {
   "cell_type": "markdown",
   "metadata": {},
   "source": [
    "# 构造工具\n"
   ]
  },
  {
   "cell_type": "markdown",
   "metadata": {},
   "source": [
    "## 构造dlmread\n",
    "仿照MatLab里面的dlmread\n",
    "```matlab\n",
    "M = dlmread(filename,delimiter,[R1 C1 R2 C2])\n",
    "```\n",
    "注意其中行列数字按照excel表格中的形式写, 首行=1, 首列=1. 否则一个大的表格数起来太麻烦了. "
   ]
  },
  {
   "cell_type": "code",
   "execution_count": 78,
   "metadata": {
    "ExecuteTime": {
     "end_time": "2017-11-06T01:55:30.640939Z",
     "start_time": "2017-11-06T01:55:30.632937Z"
    },
    "collapsed": true
   },
   "outputs": [],
   "source": [
    "def dlmread(filename,delimiter,R1,C1,R2,C2,header=None):\n",
    "    s=range(R1-1)\n",
    "    n=R2-R1+1\n",
    "    cols=range(C1-1,C2)\n",
    "    data=pd.read_csv(filename,\n",
    "                     sep=delimiter,\n",
    "                     skiprows=s,\n",
    "                     nrows=n,\n",
    "                     header=header,\n",
    "                     usecols=cols\n",
    "                    )\n",
    "    return data"
   ]
  },
  {
   "cell_type": "code",
   "execution_count": 97,
   "metadata": {
    "ExecuteTime": {
     "end_time": "2017-11-06T02:18:02.774764Z",
     "start_time": "2017-11-06T02:18:02.719865Z"
    },
    "scrolled": true
   },
   "outputs": [
    {
     "name": "stdout",
     "output_type": "stream",
     "text": [
      "原始表格\n",
      "    0   1   2   3   4\n",
      "0  A1  B1  C1  D1 NaN\n",
      "1  A2  B2  C2  D2 NaN\n",
      "2  A3  B3  C3  D3 NaN\n",
      "3  A4  B4  C4  D4 NaN\n",
      "4  A5  B5  C5  D5 NaN\n",
      "部分读取\n",
      "    1\n",
      "0  B1\n",
      "1  B2\n",
      "2  B3\n",
      "3  B4\n",
      "                    0      1\n",
      "0     Cornea Front Rh   7.81\n",
      "1     Cornea Front Rv   7.72\n",
      "2   Cornea Front Axis  13.70\n",
      "3  Cornea Front Astig  -0.50\n",
      "4    Cornea Front Exz  -0.41\n"
     ]
    }
   ],
   "source": [
    "# 测试用, 测试开关使用and True: \n",
    "if __name__==\"__main__\" and True:\n",
    "    fpath=os.path.join('..','testdata')\n",
    "    fname='standard.csv'\n",
    "    filename=os.path.join(fpath,fname)\n",
    "    standard_data=pd.read_csv(filename,header=None,sep=';')\n",
    "    data=dlmread(filename,';',1,2,4,2,header=None)\n",
    "    print(\"原始表格\")\n",
    "    print(standard_data)\n",
    "    print(\"部分读取\")\n",
    "    print(data)\n",
    "\n",
    "    fname='pentacam.csv'\n",
    "    filename=os.path.join(fpath,fname)\n",
    "    data=dlmread(filename,';',313,1,317,2,header=None)\n",
    "    print(data)"
   ]
  },
  {
   "cell_type": "markdown",
   "metadata": {},
   "source": [
    "## 翻译单元格位置\n",
    "比如给定A1, 应返回R=1,C=1"
   ]
  },
  {
   "cell_type": "code",
   "execution_count": 103,
   "metadata": {
    "ExecuteTime": {
     "end_time": "2017-11-06T02:36:57.930414Z",
     "start_time": "2017-11-06T02:36:57.916227Z"
    },
    "collapsed": true
   },
   "outputs": [],
   "source": [
    "def col_to_num(col_str):\n",
    "    \"\"\" Convert base26 column string to number. \"\"\"\n",
    "    expn = 0\n",
    "    col_num = 0\n",
    "    for char in reversed(col_str):\n",
    "        col_num += (ord(char) - ord('A') + 1) * (26 ** expn)\n",
    "        expn += 1\n",
    "\n",
    "    return col_num\n",
    "def cell2num(cellname):\n",
    "    col_letter=\"\".join(re.findall('[A-Z][a-z]*',cellname))\n",
    "    col=col_to_num(col_letter)\n",
    "    row=\"\".join(re.findall('[0-9]*',cellname))\n",
    "    return (row,col)\n",
    "    "
   ]
  },
  {
   "cell_type": "code",
   "execution_count": 108,
   "metadata": {
    "ExecuteTime": {
     "end_time": "2017-11-06T02:39:08.216452Z",
     "start_time": "2017-11-06T02:39:08.209330Z"
    }
   },
   "outputs": [
    {
     "name": "stdout",
     "output_type": "stream",
     "text": [
      "(1,27)\n"
     ]
    }
   ],
   "source": [
    "# 测试用, 测试开关使用and True: \n",
    "if __name__==\"__main__\" and True:\n",
    "    (r,c)=cell2num('AA1')\n",
    "    print(\"({0},{1})\".format(r,c))"
   ]
  },
  {
   "cell_type": "markdown",
   "metadata": {},
   "source": [
    "## 翻译单元格范围\n",
    "例如: A1..B5->[1,1,5,2]"
   ]
  },
  {
   "cell_type": "code",
   "execution_count": 113,
   "metadata": {
    "ExecuteTime": {
     "end_time": "2017-11-06T02:49:59.217862Z",
     "start_time": "2017-11-06T02:49:59.211168Z"
    },
    "collapsed": true
   },
   "outputs": [],
   "source": [
    "def cell_block(cell_string):\n",
    "    cell_name=re.split('\\..',cell_string)\n",
    "    (r1,c1)=cell2num(cell_name[0])\n",
    "    (r2,c2)=cell2num(cell_name[1])\n",
    "    return(r1,c1,r2,c2)    "
   ]
  },
  {
   "cell_type": "code",
   "execution_count": 114,
   "metadata": {
    "ExecuteTime": {
     "end_time": "2017-11-06T02:50:00.744352Z",
     "start_time": "2017-11-06T02:50:00.736981Z"
    }
   },
   "outputs": [
    {
     "name": "stdout",
     "output_type": "stream",
     "text": [
      "['A1', 'B5']\n",
      "(1,1,5,2)\n"
     ]
    }
   ],
   "source": [
    "(r1,c1,r2,c2)=cell_block('A1..B5')\n",
    "print(\"({0},{1},{2},{3})\".format(r1,c1,r2,c2))"
   ]
  },
  {
   "cell_type": "markdown",
   "metadata": {},
   "source": [
    "## 读取 Sirius  角膜地形图"
   ]
  },
  {
   "cell_type": "markdown",
   "metadata": {},
   "source": [
    "Sirius 角膜地形图. 数据存储为CSV文件. \n",
    "除Radii数据之外, 其他数据的描述以极座标方式描述角膜, 每一类数据共31行, 256列. \n",
    "\n",
    "read_sirius函数需要两个参数: \n",
    "* filepath_or_buffer:  一般来说是文件名\n",
    "* catalog:  需要获取的数据类别. 包含的类别有: \n",
    "  * 'Radii'                        \n",
    "  * 'CornealThickness'              \n",
    "  * 'ElevationAnterior'\n",
    "  * 'ElevationPosterior'\n",
    "  * 'RefractiveEquivalentPower'\n",
    "  * 'RefractiveFrontalPowerAnterior'\n",
    "  * 'RefractiveFrontalPowerPosterior'\n",
    "  * 'SagittalAnterior'\n",
    "  * 'SagittalPosterior'\n",
    "  * 'TangentialAnterior'\n",
    "  * 'TangentialPosterior'\n",
    "  \n",
    "** 务必注意类别名称的大小写 **\n"
   ]
  },
  {
   "cell_type": "code",
   "execution_count": 7,
   "metadata": {
    "ExecuteTime": {
     "end_time": "2017-11-05T18:30:30.235628Z",
     "start_time": "2017-11-05T18:30:30.169352Z"
    },
    "collapsed": true
   },
   "outputs": [],
   "source": [
    "def read_sirius(filepath_or_buffer,catalog):\n",
    "    # based on Sirius CSV\n",
    "    catalog_dict={\n",
    "        'Radii':                           [2,1,],\n",
    "        'CornealThickness':                {\"skiprows\":3, \"nrows\":31},\n",
    "        'ElevationAnterior':               {\"skiprows\":35, \"nrows\":31},\n",
    "        'ElevationPosterior':              {\"skiprows\":67, \"nrows\":31},\n",
    "        'RefractiveEquivalentPower':       {\"skiprows\":99, \"nrows\":31},\n",
    "        'RefractiveFrontalPowerAnterior':  {\"skiprows\":131, \"nrows\":31},\n",
    "        'RefractiveFrontalPowerPosterior': {\"skiprows\":163, \"nrows\":31},\n",
    "        'SagittalAnterior':                {\"skiprows\":195, \"nrows\":31},\n",
    "        'SagittalPosterior':               {\"skiprows\":227, \"nrows\":31},\n",
    "        'TangentialAnterior':              {\"skiprows\":259, \"nrows\":31},\n",
    "        'TangentialPosterior':             {\"skiprows\":291, \"nrows\":31}\n",
    "    }\n",
    "    # extract skiprows and nrows from dict\n",
    "    s=catalog_dict[catalog][\"skiprows\"]\n",
    "    n=catalog_dict[catalog][\"nrows\"]\n",
    "    \n",
    "    # read CSV after skiprows and get nrows\n",
    "    sirius_data=pd.read_csv(filepath_or_buffer,\n",
    "                        skiprows=range(s),\n",
    "                        header=None,\n",
    "                        nrows=n,\n",
    "                        sep=';')\n",
    "    \n",
    "    # delete the last column. Is there any better method?\n",
    "    last_column_name= sirius_data.columns[-1]\n",
    "    del sirius_data[last_column_name]\n",
    "    \n",
    "    return sirius_data\n"
   ]
  },
  {
   "cell_type": "code",
   "execution_count": 8,
   "metadata": {
    "ExecuteTime": {
     "end_time": "2017-11-05T18:30:30.467322Z",
     "start_time": "2017-11-05T18:30:30.392712Z"
    }
   },
   "outputs": [
    {
     "name": "stdout",
     "output_type": "stream",
     "text": [
      "          0          1          2          3          4          5    \\\n",
      "0    621.9440   621.9440   621.9440   621.9440   621.9440   621.9440   \n",
      "1    623.1229   623.1656   623.2072   623.2475   623.2865   623.3240   \n",
      "2    624.8762   624.9506   625.0231   625.0938   625.1624   625.2291   \n",
      "3    627.3560   627.4747   627.5919   627.7073   627.8210   627.9326   \n",
      "4    630.7875   630.9597   631.1305   631.2994   631.4661   631.6304   \n",
      "5    635.1459   635.3712   635.5947   635.8160   636.0348   636.2505   \n",
      "6    640.0944   640.3879   640.6793   640.9679   641.2530   641.5339   \n",
      "7    645.7549   646.1091   646.4610   646.8098   647.1545   647.4940   \n",
      "8    651.8187   652.2406   652.6607   653.0776   653.4902   653.8972   \n",
      "9    658.3864   658.8671   659.3480   659.8279   660.3053   660.7786   \n",
      "10   665.2798   665.8257   666.3752   666.9268   667.4789   668.0296   \n",
      "11   673.3134   673.8997   674.4913   675.0869   675.6847   676.2828   \n",
      "12   681.7916   682.4629   683.1432   683.8311   684.5245   685.2215   \n",
      "13   691.8193   692.6236   693.4380   694.2610   695.0905   695.9238   \n",
      "14   703.7021   704.6613   705.6315   706.6104   707.5953   708.5829   \n",
      "15   719.1700   720.2312   721.2980   722.3676   723.4365   724.5012   \n",
      "16   737.3628   738.4274   739.4918   740.5525   741.6058   742.6478   \n",
      "17   757.0291   758.0607   759.0825   760.0911   761.0823   762.0521   \n",
      "18   777.2213   778.1376   779.0334   779.9051   780.7487   781.5602   \n",
      "19   797.9824   798.6882   799.3577   799.9870   800.5721   801.1092   \n",
      "20   816.3358   816.6557   816.9246   817.1395   817.2977   817.3970   \n",
      "21   830.6282   830.4045   830.1207   829.7754   829.3679   828.8981   \n",
      "22   837.4751   836.5329   835.5726   834.6099   833.6621   832.7484   \n",
      "23   840.2649   839.5950   839.0403   838.6140   838.3265   838.1850   \n",
      "24   832.1213   831.1108   830.2504   829.5557   829.0436   828.7328   \n",
      "25   813.2228   812.9484   813.0119   813.4481   814.2934   815.5846   \n",
      "26   787.3682   789.7105   792.6398   796.1805   800.3538   805.1778   \n",
      "27 -1000.0000 -1000.0000 -1000.0000 -1000.0000 -1000.0000 -1000.0000   \n",
      "28 -1000.0000 -1000.0000 -1000.0000 -1000.0000 -1000.0000 -1000.0000   \n",
      "29 -1000.0000 -1000.0000 -1000.0000 -1000.0000 -1000.0000 -1000.0000   \n",
      "30 -1000.0000 -1000.0000 -1000.0000 -1000.0000 -1000.0000 -1000.0000   \n",
      "\n",
      "          6          7          8          9      ...            246  \\\n",
      "0    621.9440   621.9440   621.9440   621.9440    ...       621.9440   \n",
      "1    623.3602   623.3948   623.4280   623.4597    ...       622.6525   \n",
      "2    625.2938   625.3565   625.4172   625.4760    ...       624.0572   \n",
      "3    628.0422   628.1497   628.2548   628.3577    ...       626.1191   \n",
      "4    631.7921   631.9507   632.1063   632.2584    ...       629.0409   \n",
      "5    636.4628   636.6713   636.8754   637.0750    ...       632.8792   \n",
      "6    641.8098   642.0800   642.3438   642.6006    ...       637.1738   \n",
      "7    647.8274   648.1536   648.4717   648.7809    ...       642.2576   \n",
      "8    654.2972   654.6890   655.0712   655.4427    ...       647.6835   \n",
      "9    661.2464   661.7070   662.1588   662.6003    ...       653.7773   \n",
      "10   668.5770   669.1191   669.6539   670.1792    ...       660.1954   \n",
      "11   676.8791   677.4714   678.0575   678.6349    ...       667.8688   \n",
      "12   685.9197   686.6166   687.3095   687.9957    ...       675.6711   \n",
      "13   696.7585   697.5914   698.4196   699.2396    ...       684.4483   \n",
      "14   709.5698   710.5520   711.5255   712.4858    ...       694.8509   \n",
      "15   725.5577   726.6017   727.6286   728.6337    ...       709.1273   \n",
      "16   743.6738   744.6793   745.6595   746.6096    ...       727.0563   \n",
      "17   762.9957   763.9086   764.7860   765.6230    ...       746.6013   \n",
      "18   782.3353   783.0696   783.7591   784.3995    ...       767.3913   \n",
      "19   801.5944   802.0240   802.3948   802.7039    ...       789.4897   \n",
      "20   817.4354   817.4115   817.3246   817.1748    ...       810.7877   \n",
      "21   828.3675   827.7783   827.1342   826.4401    ...       829.7806   \n",
      "22   831.8888   831.1043   830.4155   829.8420    ...       843.5610   \n",
      "23   838.1934   838.3526   838.6606   839.1125    ...       849.0498   \n",
      "24   828.6444   828.8014   829.2285   829.9507    ...       846.4683   \n",
      "25   817.3580   819.6474   822.4814   825.8818    ...       827.6304   \n",
      "26   810.6665   816.8282   823.6646   831.1676    ...       788.5803   \n",
      "27 -1000.0000 -1000.0000 -1000.0000 -1000.0000    ...       774.4830   \n",
      "28 -1000.0000 -1000.0000 -1000.0000 -1000.0000    ...     -1000.0000   \n",
      "29 -1000.0000 -1000.0000 -1000.0000 -1000.0000    ...     -1000.0000   \n",
      "30 -1000.0000 -1000.0000 -1000.0000 -1000.0000    ...     -1000.0000   \n",
      "\n",
      "          247        248        249        250        251        252  \\\n",
      "0    621.9440   621.9440   621.9440   621.9440   621.9440   621.9440   \n",
      "1    622.7012   622.7499   622.7984   622.8466   622.8945   622.9417   \n",
      "2    624.1431   624.2286   624.3134   624.3974   624.4805   624.5624   \n",
      "3    626.2440   626.3692   626.4944   626.6194   626.7441   626.8683   \n",
      "4    629.2136   629.3873   629.5620   629.7372   629.9128   630.0886   \n",
      "5    633.1025   633.3273   633.5532   633.7802   634.0078   634.2358   \n",
      "6    637.4581   637.7450   638.0342   638.3256   638.6186   638.9130   \n",
      "7    642.5960   642.9377   643.2827   643.6306   643.9812   644.3339   \n",
      "8    648.0819   648.4844   648.8910   649.3013   649.7153   650.1323   \n",
      "9    654.2160   654.6599   655.1089   655.5634   656.0231   656.4877   \n",
      "10   660.6702   661.1519   661.6410   662.1378   662.6425   663.1553   \n",
      "11   668.3815   668.8995   669.4238   669.9551   670.4943   671.0416   \n",
      "12   676.2408   676.8173   677.4019   677.9958   678.6001   679.2153   \n",
      "13   685.1363   685.8327   686.5387   687.2555   687.9840   688.7250   \n",
      "14   695.6835   696.5245   697.3753   698.2375   699.1126   700.0014   \n",
      "15   710.0848   711.0507   712.0261   713.0120   714.0093   715.0186   \n",
      "16   728.0547   729.0587   730.0693   731.0875   732.1140   733.1489   \n",
      "17   747.6444   748.6867   749.7289   750.7715   751.8151   752.8594   \n",
      "18   768.4166   769.4325   770.4393   771.4374   772.4269   773.4076   \n",
      "19   790.4374   791.3642   792.2701   793.1552   794.0192   794.8614   \n",
      "20   811.5211   812.2151   812.8697   813.4854   814.0621   814.5999   \n",
      "21   830.1219   830.4028   830.6250   830.7901   830.8997   830.9547   \n",
      "22   843.3344   843.0100   842.5907   842.0806   841.4850   840.8100   \n",
      "23   848.3105   847.4896   846.6030   845.6692   844.7085   843.7426   \n",
      "24   845.0174   843.5068   841.9595   840.4001   838.8536   837.3447   \n",
      "25   825.7022   823.7982   821.9498   820.1888   818.5475   817.0576   \n",
      "26   787.0842   785.7692   784.6823   783.8718   783.3860   783.2715   \n",
      "27   776.8535   779.7062   783.0430   786.8596 -1000.0000 -1000.0000   \n",
      "28 -1000.0000 -1000.0000 -1000.0000 -1000.0000 -1000.0000 -1000.0000   \n",
      "29 -1000.0000 -1000.0000 -1000.0000 -1000.0000 -1000.0000 -1000.0000   \n",
      "30 -1000.0000 -1000.0000 -1000.0000 -1000.0000 -1000.0000 -1000.0000   \n",
      "\n",
      "          253        254        255  \n",
      "0    621.9440   621.9440   621.9440  \n",
      "1    622.9883   623.0341   623.0790  \n",
      "2    624.6431   624.7224   624.8001  \n",
      "3    626.9918   627.1143   627.2358  \n",
      "4    630.2642   630.4394   630.6140  \n",
      "5    634.4640   634.6920   634.9194  \n",
      "6    639.2083   639.5040   639.7996  \n",
      "7    644.6883   645.0438   645.3995  \n",
      "8    650.5518   650.9733   651.3959  \n",
      "9    656.9570   657.4304   657.9072  \n",
      "10   663.6759   664.2040   664.7389  \n",
      "11   671.5973   672.1614   672.7336  \n",
      "12   679.8420   680.4805   681.1306  \n",
      "13   689.4791   690.2463   691.0266  \n",
      "14   700.9047   701.8228   702.7555  \n",
      "15   716.0398   717.0727   718.1165  \n",
      "16   734.1922   735.2432   736.3006  \n",
      "17   753.9042   754.9485   755.9908  \n",
      "18   774.3788   775.3394   776.2877  \n",
      "19   795.6808   796.4756   797.2438  \n",
      "20   815.0976   815.5542   815.9677  \n",
      "21   830.9556   830.9022   830.7936  \n",
      "22   840.0627   839.2514   838.3853  \n",
      "23   842.7935   841.8834   841.0338  \n",
      "24   835.8967   834.5309   833.2666  \n",
      "25   815.7498   814.6546   813.8021  \n",
      "26   783.5731   784.3318   785.5854  \n",
      "27 -1000.0000 -1000.0000 -1000.0000  \n",
      "28 -1000.0000 -1000.0000 -1000.0000  \n",
      "29 -1000.0000 -1000.0000 -1000.0000  \n",
      "30 -1000.0000 -1000.0000 -1000.0000  \n",
      "\n",
      "[31 rows x 256 columns]\n"
     ]
    }
   ],
   "source": [
    "# 测试用: \n",
    "if __name__==\"__main__\" and True:\n",
    "    fpath=os.path.join('..','testdata')\n",
    "    fname='sirius.csv'\n",
    "    filename=os.path.join(fpath,fname)\n",
    "    catalog='CornealThickness'\n",
    "    data=read_sirius(filename,catalog)\n",
    "    \n",
    "    print(data)"
   ]
  },
  {
   "cell_type": "markdown",
   "metadata": {},
   "source": [
    "## 读取PentaCam角膜地形图数据"
   ]
  },
  {
   "cell_type": "markdown",
   "metadata": {},
   "source": [
    "PentaCam 角膜地形图. 数据存储为CSV文件. \n",
    "\n",
    "* Front, Back以二维矩阵形式存储直角座标位置数据, 分别141行, 141列 \n",
    "* 其他数据一般标题在第一列, 数据放在第二列. 看起来非常凌乱. 于是读取很费力. \n",
    "* 格式这么难看, 德国人真的好意思? ? ? \n",
    "\n",
    "read_pentacam函数需要两个参数: \n",
    "* filepath_or_buffer:  一般来说是文件名\n",
    "* catalog:  需要获取的数据类别. 包含的类别有: \n",
    "  * 'FRONT'\n",
    "  * 'BACK'\n",
    "  * 'Cornea'\n",
    "  * 'Pachy'\n",
    "  * 'Chamber'\n",
    "  * 'K'\n",
    "  * 'Pupil'\n",
    "  \n",
    "** 务必注意类别名称的大小写 **\n",
    "\n",
    "列索引目前需要用字符串, 例如'7.000'"
   ]
  },
  {
   "cell_type": "code",
   "execution_count": 46,
   "metadata": {
    "ExecuteTime": {
     "end_time": "2017-11-06T01:27:01.652746Z",
     "start_time": "2017-11-06T01:27:01.505631Z"
    },
    "collapsed": true
   },
   "outputs": [],
   "source": [
    "def read_pentacam(filepath_or_buffer,catalog):\n",
    "    # based on Sirius CSV\n",
    "    catalog_dict={\n",
    "        'FRONT':{\"skiprows\":0, \"nrows\":141, \"header\":0, \"keepCol\":141,\"new_col_name\":[]},\n",
    "        'BACK':{\"skiprows\":142, \"nrows\":141, \"header\":0,\"keepCol\":141,\"new_col_name\":[]},\n",
    "        'Cornea':{\"skiprows\":311, \"nrows\":4, \"header\":None,\"keepCol\":1,\"new_col_name\":['value']},\n",
    "        'Pachy':{\"skiprows\":316, \"nrows\":4, \"header\":None,\"keepCol\":1,\"new_col_name\":['value']}, \n",
    "        'Chamber':{\"skiprows\":320, \"nrows\":2, \"header\":None,\"keepCol\":1,\"new_col_name\":['value']}, \n",
    "        'K':{\"skiprows\":325, \"nrows\":3, \"header\":None,\"keepCol\":1,\"new_col_name\":['value']},\n",
    "        # 下面这个我也不知道为什么,329,330我都已经测试过了, header也试过不同的\n",
    "        'Pupil':{\"skiprows\":328, \"nrows\":4, \"header\":0,\"keepCol\":1,\"new_col_name\":['value']} \n",
    "    }\n",
    "    # extract skiprows and nrows from dict\n",
    "    s=catalog_dict[catalog][\"skiprows\"]\n",
    "    n=catalog_dict[catalog][\"nrows\"]\n",
    "    h=catalog_dict[catalog][\"header\"]\n",
    "    k=catalog_dict[catalog][\"keepCol\"]\n",
    "    newname=catalog_dict[catalog][\"new_col_name\"]\n",
    "    \n",
    "    # read CSV after skiprows and get nrows\n",
    "    pentacam_data=pd.read_csv(filepath_or_buffer,\n",
    "                        skiprows=range(s),\n",
    "                        header=h,\n",
    "                        nrows=n,\n",
    "                        sep=';'\n",
    "                             )\n",
    "    # set index and index name\n",
    "    first_column_name= pentacam_data.columns[0]\n",
    "    pentacam_data.set_index(first_column_name,inplace=True)\n",
    "    pentacam_data.index.name=''\n",
    "    \n",
    "    # keep columns\n",
    "    pentacam_data=pentacam_data.iloc[:,range(k)]\n",
    "    \n",
    "    # change column name\n",
    "    newnameDict=dict(zip(pentacam_data.columns,newname))\n",
    "    pentacam_data.rename(columns=newnameDict,inplace=True)    \n",
    "    return pentacam_data"
   ]
  },
  {
   "cell_type": "code",
   "execution_count": 50,
   "metadata": {
    "ExecuteTime": {
     "end_time": "2017-11-06T01:43:56.808879Z",
     "start_time": "2017-11-06T01:43:56.789622Z"
    }
   },
   "outputs": [],
   "source": [
    "# 测试用: \n",
    "if __name__==\"__main__\" and False:\n",
    "    fpath=os.path.join('..','testdata')\n",
    "    fname='pentacam.csv'\n",
    "    filename=os.path.join(fpath,fname)\n",
    "    catalog='Pupil'\n",
    "#     catalog='Cornea'\n",
    "    catalog='FRONT'\n",
    "\n",
    "    data=read_pentacam(filename,catalog)\n",
    "    \n",
    "    print(data)\n",
    "    print(data.shape)"
   ]
  },
  {
   "cell_type": "code",
   "execution_count": null,
   "metadata": {
    "collapsed": true
   },
   "outputs": [],
   "source": []
  },
  {
   "cell_type": "code",
   "execution_count": null,
   "metadata": {
    "collapsed": true
   },
   "outputs": [],
   "source": []
  }
 ],
 "metadata": {
  "kernelspec": {
   "display_name": "Python 3",
   "language": "python",
   "name": "python3"
  },
  "language_info": {
   "codemirror_mode": {
    "name": "ipython",
    "version": 3
   },
   "file_extension": ".py",
   "mimetype": "text/x-python",
   "name": "python",
   "nbconvert_exporter": "python",
   "pygments_lexer": "ipython3",
   "version": "3.5.2"
  },
  "toc": {
   "colors": {
    "hover_highlight": "#DAA520",
    "navigate_num": "#000000",
    "navigate_text": "#333333",
    "running_highlight": "#FF0000",
    "selected_highlight": "#FFD700",
    "sidebar_border": "#EEEEEE",
    "wrapper_background": "#FFFFFF"
   },
   "moveMenuLeft": true,
   "nav_menu": {
    "height": "102px",
    "width": "254px"
   },
   "navigate_menu": true,
   "number_sections": true,
   "sideBar": true,
   "threshold": 4,
   "toc_cell": false,
   "toc_section_display": "block",
   "toc_window_display": false,
   "widenNotebook": false
  }
 },
 "nbformat": 4,
 "nbformat_minor": 2
}
