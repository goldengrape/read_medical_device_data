{
 "cells": [
  {
   "cell_type": "code",
   "execution_count": 5,
   "metadata": {
    "ExecuteTime": {
     "end_time": "2018-07-06T11:19:18.619841Z",
     "start_time": "2018-07-06T11:19:16.656747Z"
    }
   },
   "outputs": [
    {
     "name": "stdout",
     "output_type": "stream",
     "text": [
      "<LTPage(1) 0.000,0.000,800.000,800.000 rotate=0>\n",
      "<LTFigure(Xf1) 0.000,0.000,595.000,842.000 matrix=[1.00,0.00,0.00,1.00, (0.00,0.00)]>\n",
      "<LTPage(2) 0.000,0.000,800.000,800.000 rotate=0>\n",
      "<LTFigure(Xf2) 0.000,0.000,595.000,842.000 matrix=[1.00,0.00,0.00,1.00, (0.00,0.00)]>\n"
     ]
    }
   ],
   "source": [
    "from pdfminer.converter import PDFPageAggregator\n",
    "from pdfminer.pdfparser import PDFParser\n",
    "from pdfminer.pdfdocument import PDFDocument\n",
    "from pdfminer.pdfpage import PDFPage\n",
    "from pdfminer.pdfpage import PDFTextExtractionNotAllowed\n",
    "from pdfminer.pdfinterp import PDFResourceManager\n",
    "from pdfminer.pdfinterp import PDFPageInterpreter\n",
    "from pdfminer.layout import *\n",
    "import re\n",
    "import os\n",
    "\n",
    "\n",
    "input_path='../../testdata/Octopus'\n",
    "fname=\"20130106动态视野(Octopus) .pdf\" # for test\n",
    "    \n",
    "    \n",
    "#打开一个pdf文件\n",
    "filename=os.path.join(input_path,fname)\n",
    "fp = open(filename, 'rb')\n",
    "#创建一个PDF文档解析器对象\n",
    "parser = PDFParser(fp)\n",
    "#创建一个PDF文档对象存储文档结构\n",
    "#提供密码初始化，没有就不用传该参数\n",
    "#document = PDFDocument(parser, password)\n",
    "document = PDFDocument(parser)\n",
    "#检查文件是否允许文本提取\n",
    "if not document.is_extractable:\n",
    "    raise PDFTextExtractionNotAllowed\n",
    "#创建一个PDF资源管理器对象来存储共享资源\n",
    "#caching = False不缓存\n",
    "rsrcmgr = PDFResourceManager(caching = False)\n",
    "# 创建一个PDF设备对象\n",
    "laparams = LAParams()\n",
    "# 创建一个PDF页面聚合对象\n",
    "device = PDFPageAggregator(rsrcmgr, laparams=laparams)\n",
    "#创建一个PDF解析器对象\n",
    "interpreter = PDFPageInterpreter(rsrcmgr, device)\n",
    "#处理文档当中的每个页面\n",
    "\n",
    "# doc.get_pages() 获取page列表\n",
    "#for i, page in enumerate(document.get_pages()):\n",
    "#PDFPage.create_pages(document) 获取page列表的另一种方式\n",
    "replace=re.compile(r'\\s+');\n",
    "# 循环遍历列表，每次处理一个page的内容\n",
    "for page in PDFPage.create_pages(document):\n",
    "    interpreter.process_page(page)\n",
    "    # 接受该页面的LTPage对象\n",
    "    layout=device.get_result()\n",
    "    print(layout)\n",
    "    # 这里layout是一个LTPage对象 里面存放着 这个page解析出的各种对象\n",
    "    # 一般包括LTTextBox, LTFigure, LTImage, LTTextBoxHorizontal 等等\n",
    "    for x in layout:\n",
    "        print(x)\n",
    "        #如果x是水平文本对象的话\n",
    "#         if(isinstance(x,LTTextBoxHorizontal)):\n",
    "#             text=re.sub(replace,'',x.get_text())\n",
    "#             if len(text)!=0:\n",
    "#                 print(text)"
   ]
  },
  {
   "cell_type": "code",
   "execution_count": null,
   "metadata": {},
   "outputs": [],
   "source": []
  }
 ],
 "metadata": {
  "kernelspec": {
   "display_name": "Python 3",
   "language": "python",
   "name": "python3"
  },
  "language_info": {
   "codemirror_mode": {
    "name": "ipython",
    "version": 3
   },
   "file_extension": ".py",
   "mimetype": "text/x-python",
   "name": "python",
   "nbconvert_exporter": "python",
   "pygments_lexer": "ipython3",
   "version": "3.5.5"
  },
  "toc": {
   "colors": {
    "hover_highlight": "#DAA520",
    "navigate_num": "#000000",
    "navigate_text": "#333333",
    "running_highlight": "#FF0000",
    "selected_highlight": "#FFD700",
    "sidebar_border": "#EEEEEE",
    "wrapper_background": "#FFFFFF"
   },
   "moveMenuLeft": true,
   "nav_menu": {
    "height": "4px",
    "width": "254px"
   },
   "navigate_menu": true,
   "number_sections": true,
   "sideBar": true,
   "threshold": 4,
   "toc_cell": false,
   "toc_section_display": "block",
   "toc_window_display": false,
   "widenNotebook": false
  }
 },
 "nbformat": 4,
 "nbformat_minor": 2
}
