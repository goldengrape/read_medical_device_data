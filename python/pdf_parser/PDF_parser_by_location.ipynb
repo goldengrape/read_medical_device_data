{
 "cells": [
  {
   "cell_type": "markdown",
   "metadata": {},
   "source": [
    "# 根据位置提取PDF文件信息"
   ]
  },
  {
   "cell_type": "markdown",
   "metadata": {},
   "source": [
    "## 设定文件路径参数"
   ]
  },
  {
   "cell_type": "code",
   "execution_count": 18,
   "metadata": {
    "ExecuteTime": {
     "end_time": "2018-07-11T01:55:33.196948Z",
     "start_time": "2018-07-11T01:55:33.193136Z"
    }
   },
   "outputs": [],
   "source": [
    "if __name__==\"__main__\":\n",
    "    input_path='../../testdata/Octopus'\n",
    "    output_path=\"../../testdata/Octopus\"\n",
    "    fname=\"20170406动态视野(Octopus) .pdf\"\n",
    "    info_fname=\"info_location.csv\"\n",
    "    #pageno=0 # for test"
   ]
  },
  {
   "cell_type": "markdown",
   "metadata": {},
   "source": [
    "## 导入依赖包"
   ]
  },
  {
   "cell_type": "markdown",
   "metadata": {},
   "source": [
    ".2  导入依赖包\n",
    "在使用notebook.azure.com在线运行时, 由于默认没有安装pdfminer.six这个包, 所以在首次运行时需要安装, 已经将安装代码加入"
   ]
  },
  {
   "cell_type": "markdown",
   "metadata": {},
   "source": [
    "在使用notebook.azure.com在线运行时, 由于默认没有安装pdfminer.six这个包, 所以在首次运行时需要安装, 已经将安装代码加入到下面导入依赖包的代码内, 因此首次运行时速度会较慢. \n",
    "\n",
    "同时, 在使用notebook.azure.com在线运行时, 服务器端不会保存曾经安装过的包, 因此在1小时没有操作之后, 服务器会关闭, 再次打开时就已经丢失了之前安装的包, 相当于首次运行. m"
   ]
  },
  {
   "cell_type": "code",
   "execution_count": 2,
   "metadata": {
    "ExecuteTime": {
     "end_time": "2018-07-11T01:36:16.274641Z",
     "start_time": "2018-07-11T01:36:15.355364Z"
    }
   },
   "outputs": [],
   "source": [
    "import sys\n",
    "import os\n",
    "import os.path\n",
    "import io\n",
    "import re\n",
    "import pandas as pd\n",
    "from pandas import Series,DataFrame\n",
    "import numpy as np\n",
    "\n",
    "try:\n",
    "    from pdfminer.pdfinterp import PDFResourceManager, PDFPageInterpreter\n",
    "    from pdfminer.pdfpage import PDFPage\n",
    "    from pdfminer.converter import XMLConverter, HTMLConverter, TextConverter\n",
    "    from pdfminer.layout import LAParams\n",
    "    from pdfminer.image import ImageWriter\n",
    "except:\n",
    "    !conda install pdfminer.six --yes\n",
    "    from pdfminer.pdfinterp import PDFResourceManager, PDFPageInterpreter\n",
    "    from pdfminer.pdfpage import PDFPage\n",
    "    from pdfminer.converter import XMLConverter, HTMLConverter, TextConverter\n",
    "    from pdfminer.layout import LAParams\n",
    "    from pdfminer.image import ImageWriter\n"
   ]
  },
  {
   "cell_type": "markdown",
   "metadata": {},
   "source": [
    "# 读取原始数据"
   ]
  },
  {
   "cell_type": "markdown",
   "metadata": {},
   "source": [
    "使用导出成html文本的方式, 将PDF文件中的每一个字符定位后导出.\n",
    "由于对字符位置高度依赖, 所以文件必须以A4形式导出."
   ]
  },
  {
   "cell_type": "code",
   "execution_count": 3,
   "metadata": {
    "ExecuteTime": {
     "end_time": "2018-07-11T01:36:16.282947Z",
     "start_time": "2018-07-11T01:36:16.277803Z"
    }
   },
   "outputs": [],
   "source": [
    "def get_pdf_page(input_path,fname):\n",
    "    '''\n",
    "    取得页面个数\n",
    "    '''\n",
    "    filename=os.path.join(input_path,fname)\n",
    "    fp = open(filename, 'rb')\n",
    "    return len([p for p in PDFPage.get_pages(fp)])"
   ]
  },
  {
   "cell_type": "code",
   "execution_count": 4,
   "metadata": {
    "ExecuteTime": {
     "end_time": "2018-07-11T01:36:16.294231Z",
     "start_time": "2018-07-11T01:36:16.286101Z"
    }
   },
   "outputs": [],
   "source": [
    "def pdf_parser(input_path,fname,page_number):\n",
    "    '''\n",
    "    取得转换为html的字符\n",
    "    '''\n",
    "    filename=os.path.join(input_path,fname)\n",
    "    fp = open(filename, 'rb')\n",
    "    rsrcmgr = PDFResourceManager()\n",
    "    retstr = io.BytesIO()\n",
    "    codec = 'utf-8'\n",
    "    laparams = LAParams()\n",
    "    device = HTMLConverter(rsrcmgr, retstr, \n",
    "                           codec=codec, layoutmode=\"exact\", laparams=laparams)\n",
    "    interpreter = PDFPageInterpreter(rsrcmgr, device)\n",
    "    all_pages=[p for p in PDFPage.get_pages(fp)]\n",
    "    interpreter.process_page(all_pages[page_number]) # 无法分成多个函数处理, 目前只能重新读取并处理\n",
    "    txt_string =  retstr.getvalue()\n",
    "    retstr.truncate(0)\n",
    "    return  txt_string.decode(\"utf-8\")"
   ]
  },
  {
   "cell_type": "markdown",
   "metadata": {},
   "source": [
    "每个字符的位置"
   ]
  },
  {
   "cell_type": "code",
   "execution_count": 5,
   "metadata": {
    "ExecuteTime": {
     "end_time": "2018-07-11T01:36:16.304389Z",
     "start_time": "2018-07-11T01:36:16.297524Z"
    }
   },
   "outputs": [],
   "source": [
    "def get_all_char(txtdata):\n",
    "    span_left='<span style=\"position:absolute; color:black; left:(\\d+)px; top:(\\d+)px; font-size:\\d+px;\">'\n",
    "    span_right=\"</span>\"\n",
    "    value=re.findall(span_left+\"([\\s\\S]+?)\"+span_right, txtdata)\n",
    "    char_df=DataFrame(value, columns=[\"X\",\"Y\",\"V\"])\n",
    "    char_df[\"X\"]=char_df[\"X\"].astype(int);\n",
    "    char_df[\"Y\"]=char_df[\"Y\"].astype(int);\n",
    "    return char_df"
   ]
  },
  {
   "cell_type": "markdown",
   "metadata": {},
   "source": [
    "从一个box内取出所包含的字符, 并拼接成字符串"
   ]
  },
  {
   "cell_type": "code",
   "execution_count": 6,
   "metadata": {
    "ExecuteTime": {
     "end_time": "2018-07-11T01:36:16.317094Z",
     "start_time": "2018-07-11T01:36:16.307943Z"
    }
   },
   "outputs": [],
   "source": [
    "def char_in_box(box, df):\n",
    "    '''\n",
    "    读取box范围内的字符, 并且拼接成字符串\n",
    "    '''\n",
    "    x0,y0,dx,dy=(int(u) for u in box)\n",
    "    part=(df.where((df[\"X\"]>x0) & (df[\"X\"]<x0+dx) & \n",
    "                   (df[\"Y\"]>y0) & (df[\"Y\"]<y0+dy) )\n",
    "            .dropna())\n",
    "    return \"\".join(part[\"V\"].tolist())"
   ]
  },
  {
   "cell_type": "markdown",
   "metadata": {},
   "source": [
    "# 读取位置信息文件"
   ]
  },
  {
   "cell_type": "code",
   "execution_count": 47,
   "metadata": {
    "ExecuteTime": {
     "end_time": "2018-07-11T02:23:51.800163Z",
     "start_time": "2018-07-11T02:23:51.793988Z"
    }
   },
   "outputs": [],
   "source": [
    "def read_data_from_location(input_path, fname, info_fname, page_number):\n",
    "    txt_data=pdf_parser(input_path,fname,page_number)\n",
    "    c_df=get_all_char(txt_data)\n",
    "    info_loc_df=pd.read_csv(os.path.join(input_path, info_fname))\n",
    "    df_dict={}\n",
    "    for index, row in info_loc_df.iterrows():\n",
    "        df_dict[row[0]]=(char_in_box((row.left, row.top, row.width, row.height),c_df ))\n",
    "    df=Series(df_dict)\n",
    "#     df.columns=[\"item_name\",\"string_value\"]\n",
    "    return df"
   ]
  },
  {
   "cell_type": "code",
   "execution_count": 48,
   "metadata": {
    "ExecuteTime": {
     "end_time": "2018-07-11T02:23:53.299073Z",
     "start_time": "2018-07-11T02:23:52.256528Z"
    }
   },
   "outputs": [],
   "source": [
    "if __name__==\"__main__\":\n",
    "    df=read_data_from_location(input_path, fname, info_fname, page_number)"
   ]
  },
  {
   "cell_type": "code",
   "execution_count": null,
   "metadata": {},
   "outputs": [],
   "source": []
  }
 ],
 "metadata": {
  "kernelspec": {
   "display_name": "Python 3",
   "language": "python",
   "name": "python3"
  },
  "language_info": {
   "codemirror_mode": {
    "name": "ipython",
    "version": 3
   },
   "file_extension": ".py",
   "mimetype": "text/x-python",
   "name": "python",
   "nbconvert_exporter": "python",
   "pygments_lexer": "ipython3",
   "version": "3.5.5"
  },
  "toc": {
   "colors": {
    "hover_highlight": "#DAA520",
    "navigate_num": "#000000",
    "navigate_text": "#333333",
    "running_highlight": "#FF0000",
    "selected_highlight": "#FFD700",
    "sidebar_border": "#EEEEEE",
    "wrapper_background": "#FFFFFF"
   },
   "moveMenuLeft": true,
   "nav_menu": {
    "height": "114px",
    "width": "254px"
   },
   "navigate_menu": true,
   "number_sections": true,
   "sideBar": true,
   "threshold": 4,
   "toc_cell": false,
   "toc_section_display": "block",
   "toc_window_display": false,
   "widenNotebook": false
  }
 },
 "nbformat": 4,
 "nbformat_minor": 2
}
