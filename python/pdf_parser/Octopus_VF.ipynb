{
 "cells": [
  {
   "cell_type": "markdown",
   "metadata": {},
   "source": [
    "# 提取Octopus视野数据"
   ]
  },
  {
   "cell_type": "markdown",
   "metadata": {},
   "source": [
    "## 设定文件路径参数"
   ]
  },
  {
   "cell_type": "code",
   "execution_count": 1,
   "metadata": {
    "ExecuteTime": {
     "end_time": "2018-07-08T11:49:02.800390Z",
     "start_time": "2018-07-08T11:49:02.792303Z"
    }
   },
   "outputs": [],
   "source": [
    "if __name__==\"__main__\":\n",
    "    input_path='../../testdata/Octopus'\n",
    "    output_path=\"../../testdata/Octopus\"\n",
    "    fname=\"20171130动态视野(Octopus) .pdf\"\n",
    "    pageno=0 # for test"
   ]
  },
  {
   "cell_type": "markdown",
   "metadata": {},
   "source": [
    "## 导入依赖包"
   ]
  },
  {
   "cell_type": "markdown",
   "metadata": {},
   "source": [
    "在使用notebook.azure.com在线运行时, 由于默认没有安装pdfminer.six这个包, 所以在首次运行时需要安装, 已经将安装代码加入到下面导入依赖包的代码内, 因此首次运行时速度会较慢. \n",
    "\n",
    "同时, 在使用notebook.azure.com在线运行时, 服务器端不会保存曾经安装过的包, 因此在1小时没有操作之后, 服务器会关闭, 再次打开时就已经丢失了之前安装的包, 相当于首次运行. "
   ]
  },
  {
   "cell_type": "code",
   "execution_count": 2,
   "metadata": {
    "ExecuteTime": {
     "end_time": "2018-07-08T11:49:03.655321Z",
     "start_time": "2018-07-08T11:49:02.804229Z"
    }
   },
   "outputs": [],
   "source": [
    "import sys\n",
    "import os\n",
    "import os.path\n",
    "import io\n",
    "import re\n",
    "import pandas as pd\n",
    "from pandas import Series,DataFrame\n",
    "import numpy as np\n",
    "\n",
    "try:\n",
    "    from pdfminer.pdfinterp import PDFResourceManager, PDFPageInterpreter\n",
    "    from pdfminer.pdfpage import PDFPage\n",
    "    from pdfminer.converter import XMLConverter, HTMLConverter, TextConverter\n",
    "    from pdfminer.layout import LAParams\n",
    "    from pdfminer.image import ImageWriter\n",
    "except:\n",
    "    !conda install pdfminer.six --yes\n",
    "    from pdfminer.pdfinterp import PDFResourceManager, PDFPageInterpreter\n",
    "    from pdfminer.pdfpage import PDFPage\n",
    "    from pdfminer.converter import XMLConverter, HTMLConverter, TextConverter\n",
    "    from pdfminer.layout import LAParams\n",
    "    from pdfminer.image import ImageWriter\n"
   ]
  },
  {
   "cell_type": "markdown",
   "metadata": {},
   "source": [
    "# 读取原始数据"
   ]
  },
  {
   "cell_type": "markdown",
   "metadata": {},
   "source": [
    "使用导出成html文本的方式, 将PDF文件中的每一个字符定位后导出.\n",
    "由于对字符位置高度依赖, 所以文件必须以A4形式导出."
   ]
  },
  {
   "cell_type": "code",
   "execution_count": 3,
   "metadata": {
    "ExecuteTime": {
     "end_time": "2018-07-08T11:49:03.666375Z",
     "start_time": "2018-07-08T11:49:03.658858Z"
    }
   },
   "outputs": [],
   "source": [
    "def pdf_prepare(input_path,fname):\n",
    "    filename=os.path.join(input_path,fname)\n",
    "    fp = open(filename, 'rb')\n",
    "    rsrcmgr = PDFResourceManager()\n",
    "    retstr = io.BytesIO()\n",
    "    codec = 'utf-8'\n",
    "    laparams = LAParams()\n",
    "    device = HTMLConverter(rsrcmgr, retstr, codec=codec, layoutmode=\"exact\", laparams=laparams)\n",
    "    # Create a PDF interpreter object.\n",
    "    interpreter = PDFPageInterpreter(rsrcmgr, device)\n",
    "    # Process each page contained in the document.\n",
    "    all_pages=[p for p in PDFPage.get_pages(fp)]\n",
    "    pdftool=(interpreter,retstr)\n",
    "    return pdftool, all_pages\n",
    "\n",
    "def pdf_parser(pdftool, page):\n",
    "    interpreter,retstr=pdftool\n",
    "    interpreter.process_page(page)\n",
    "    txt_string =  retstr.getvalue()\n",
    "    return  txt_string.decode(\"utf-8\")\n"
   ]
  },
  {
   "cell_type": "code",
   "execution_count": 4,
   "metadata": {
    "ExecuteTime": {
     "end_time": "2018-07-08T11:49:04.658969Z",
     "start_time": "2018-07-08T11:49:03.670243Z"
    }
   },
   "outputs": [],
   "source": [
    "pdftool, all_pages=pdf_prepare(input_path,fname)\n",
    "txt_data=pdf_parser(pdftool, all_pages[pageno])"
   ]
  },
  {
   "cell_type": "markdown",
   "metadata": {},
   "source": [
    "每个字符的位置"
   ]
  },
  {
   "cell_type": "code",
   "execution_count": 5,
   "metadata": {
    "ExecuteTime": {
     "end_time": "2018-07-08T11:49:04.667241Z",
     "start_time": "2018-07-08T11:49:04.661893Z"
    }
   },
   "outputs": [],
   "source": [
    "def get_all_char(txtdata):\n",
    "    span_left='<span style=\"position:absolute; color:black; left:(\\d+)px; top:(\\d+)px; font-size:\\d+px;\">'\n",
    "    span_right=\"</span>\"\n",
    "    value=re.findall(span_left+\"([\\s\\S]+?)\"+span_right, txtdata)\n",
    "    char_df=DataFrame(value, columns=[\"X\",\"Y\",\"V\"])\n",
    "    char_df[\"X\"]=char_df[\"X\"].astype(int);\n",
    "    char_df[\"Y\"]=char_df[\"Y\"].astype(int);\n",
    "    return char_df"
   ]
  },
  {
   "cell_type": "code",
   "execution_count": 6,
   "metadata": {
    "ExecuteTime": {
     "end_time": "2018-07-08T11:49:04.684781Z",
     "start_time": "2018-07-08T11:49:04.670404Z"
    }
   },
   "outputs": [],
   "source": [
    "char_df= get_all_char(txt_data)\n",
    "# char_df1= get_all_char(txt_data[1])"
   ]
  },
  {
   "cell_type": "markdown",
   "metadata": {},
   "source": [
    "从一个box内取出所包含的字符, 并拼接成字符串"
   ]
  },
  {
   "cell_type": "code",
   "execution_count": 7,
   "metadata": {
    "ExecuteTime": {
     "end_time": "2018-07-08T11:49:04.696728Z",
     "start_time": "2018-07-08T11:49:04.689492Z"
    }
   },
   "outputs": [],
   "source": [
    "def char_in_box(box, df):\n",
    "    '''\n",
    "    读取box范围内的字符, 并且拼接成字符串\n",
    "    '''\n",
    "    x0,y0,dx,dy=(int(u) for u in box)\n",
    "    part=(df.where((df[\"X\"]>x0) & (df[\"X\"]<x0+dx) & \n",
    "                   (df[\"Y\"]>y0) & (df[\"Y\"]<y0+dy) )\n",
    "            .dropna())\n",
    "    return \"\".join(part[\"V\"].tolist())"
   ]
  },
  {
   "cell_type": "code",
   "execution_count": 8,
   "metadata": {
    "ExecuteTime": {
     "end_time": "2018-07-08T11:49:04.711282Z",
     "start_time": "2018-07-08T11:49:04.700167Z"
    }
   },
   "outputs": [],
   "source": [
    "location_dict={\n",
    "    \"name and birthday\":(50,130,200,50), # 有不同的检查方式, 位置需要有一定的冗余\n",
    "    \"Eye and exam date time in G Standard\":(50,175,200,20), # 有不同的检查方式, 后面再切换\n",
    "    \"Eye and exam date time in LVC Standard\":(50,175,200,30), # 简单粗暴有效\n",
    "    \"Programs\":(120,700,130,4),\n",
    "    \"RF\":(300,720,100,10),\n",
    "    \"Pupil\":(100,745,100,10),   \n",
    "    \"MS\":(507,710,50,10),\n",
    "    \"MD\":(507,720,50,10),\n",
    "    \"sLV\":(507,720,50,10),\n",
    "}"
   ]
  },
  {
   "cell_type": "code",
   "execution_count": 9,
   "metadata": {
    "ExecuteTime": {
     "end_time": "2018-07-08T11:49:04.819227Z",
     "start_time": "2018-07-08T11:49:04.715228Z"
    }
   },
   "outputs": [
    {
     "name": "stdout",
     "output_type": "stream",
     "text": [
      "name and birthday : Wu wan fen, 1938-8-27\n",
      "MS : 16.6\n",
      "RF : 0.0\n",
      "Eye and exam date time in G Standard : Right eye (OD) / 2017-11-30 / 08:14:27\n",
      "MD : 10.1\n",
      "Eye and exam date time in LVC Standard : Right eye (OD) / 2017-11-30 / 08:14:27Seven-in-OneGreyscale (CO)\n",
      "Pupil : 4.2\n",
      "Programs : G Standard   White/White / TOP\n",
      "sLV : 10.1\n"
     ]
    }
   ],
   "source": [
    "for k,v in location_dict.items():\n",
    "    print(\"{} : {}\".format(k,char_in_box(v,char_df)))"
   ]
  },
  {
   "cell_type": "code",
   "execution_count": 21,
   "metadata": {
    "ExecuteTime": {
     "end_time": "2018-07-08T12:14:24.101782Z",
     "start_time": "2018-07-08T12:14:23.132150Z"
    }
   },
   "outputs": [
    {
     "name": "stdout",
     "output_type": "stream",
     "text": [
      "23\n",
      "26\n",
      "26\n",
      "6\n",
      "22\n",
      "29\n",
      "25\n",
      "12\n",
      "15\n",
      "22\n",
      "20\n",
      "22\n",
      "19\n",
      "21\n",
      "23\n",
      "14\n",
      "17\n",
      "11\n",
      "18\n",
      "20\n",
      "21\n",
      "\n",
      "14\n",
      "20\n",
      "11\n",
      "12\n",
      "20\n",
      "12\n",
      "13\n",
      "16\n",
      "16\n",
      "16\n",
      "\n",
      "18\n",
      "14\n",
      "17\n",
      "19\n",
      "16\n",
      "12\n",
      "9\n",
      "10\n",
      "10\n",
      "14\n",
      "14\n",
      "16\n",
      "10\n",
      "9\n",
      "13\n",
      "15\n",
      "15\n",
      "17\n",
      "20\n",
      "22\n",
      "20\n",
      "17\n",
      "11\n",
      "13\n",
      "15\n",
      "12\n",
      "15\n",
      "26\n",
      "---\n"
     ]
    }
   ],
   "source": [
    "value_c_x=445\n",
    "value_c_y=290\n",
    "value_location=[\n",
    "#     (371,216,164,164), # 最大范围\n",
    "    (value_c_x,value_c_y,10,10), # 中心\n",
    "\n",
    "    (value_c_x+5,value_c_y+5,10,10), # 顺时针渐开螺线, 第1圈\n",
    "    (value_c_x-5,value_c_y+5,10,10), \n",
    "    (value_c_x-5,value_c_y-5,10,10), \n",
    "    (value_c_x+5,value_c_y-5,10,10),\n",
    "    ##第2圈\n",
    "    (value_c_x+15,value_c_y+10,10,10),\n",
    "    (value_c_x-10,value_c_y+10,10,10),\n",
    "    (value_c_x-10,value_c_y-10,10,10), \n",
    "    (value_c_x+15,value_c_y-10,10,10),\n",
    "    \n",
    "    ##第3圈\n",
    "    (value_c_x+25,value_c_y+5,10,10),\n",
    "    (value_c_x+25,value_c_y+20,10,10), # 第3圈, 下横(从右到左)\n",
    "    (value_c_x+10,value_c_y+20,10,10),\n",
    "    (value_c_x-5,value_c_y+20,10,10),\n",
    "    (value_c_x-20,value_c_y+20,10,10), # 第3圈, 左竖,从下到上\n",
    "    (value_c_x-20,value_c_y+5,10,10),\n",
    "    (value_c_x-20,value_c_y-5,10,10),\n",
    "    (value_c_x-20,value_c_y-20,10,10), # 上横\n",
    "    (value_c_x-5,value_c_y-20,10,10),\n",
    "    (value_c_x+5,value_c_y-20,10,10),\n",
    "    (value_c_x+25,value_c_y-20,10,10), #第3圈, 右竖\n",
    "    (value_c_x+25,value_c_y-5,10,10),\n",
    "    \n",
    "    ## 第4圈,\n",
    "    (value_c_x+40,value_c_y+10,10,10),\n",
    "    (value_c_x+35,value_c_y+35,10,10),\n",
    "    (value_c_x+15,value_c_y+35,10,10),\n",
    "    (value_c_x-10,value_c_y+35,10,10), \n",
    "    (value_c_x-30,value_c_y+35,10,10),  \n",
    "    (value_c_x-35,value_c_y+10,10,10),\n",
    "    (value_c_x-35,value_c_y-10,10,10),\n",
    "    (value_c_x-30,value_c_y-35,10,10),  \n",
    "    (value_c_x-10,value_c_y-35,10,10), \n",
    "    (value_c_x+15,value_c_y-35,10,10),\n",
    "    (value_c_x+35,value_c_y-35,10,10),\n",
    "    (value_c_x+40,value_c_y-10,10,10),    \n",
    "\n",
    "    # 第5圈\n",
    "    (value_c_x+55,value_c_y+10,15,10),\n",
    "    (value_c_x+55,value_c_y+30,10,10),\n",
    "    (value_c_x+55,value_c_y+50,10,10),\n",
    "    (value_c_x+35,value_c_y+50,10,10),\n",
    "    (value_c_x+15,value_c_y+50,10,10),\n",
    "    (value_c_x-10,value_c_y+50,10,10),\n",
    "    (value_c_x-30,value_c_y+50,10,10),\n",
    "    (value_c_x-50,value_c_y+50,10,10),\n",
    "    (value_c_x-50,value_c_y+30,10,10),\n",
    "    (value_c_x-55,value_c_y+10,15,10), # 左右眼略有差别, 宽度加大一些,增加冗余\n",
    "    (value_c_x-55,value_c_y-10,15,10),\n",
    "    (value_c_x-50,value_c_y-30,10,10), # 这圈好大\n",
    "    (value_c_x-50,value_c_y-50,10,10), \n",
    "    (value_c_x-30,value_c_y-50,10,10),\n",
    "    (value_c_x-10,value_c_y-50,10,10),\n",
    "    (value_c_x+10,value_c_y-50,15,10),\n",
    "    (value_c_x+30,value_c_y-50,15,10),\n",
    "    (value_c_x+55,value_c_y-50,10,10),\n",
    "    (value_c_x+55,value_c_y-30,10,10),\n",
    "    (value_c_x+55,value_c_y-10,15,10),\n",
    "\n",
    "    ## 最外8个\n",
    "    (value_c_x+70,value_c_y+10,20,20),\n",
    "    (value_c_x+20,value_c_y+70,20,20),\n",
    "    (value_c_x-20,value_c_y+70,20,20),\n",
    "    (value_c_x-80,value_c_y+15,20,20),\n",
    "    (value_c_x-80,value_c_y-20,20,20),\n",
    "    (value_c_x-20,value_c_y-70,10,10), \n",
    "    (value_c_x+20,value_c_y-70,20,10),  \n",
    "    (value_c_x+70,value_c_y-20,20,20),\n",
    "]\n",
    "\n",
    "for loc in value_location:\n",
    "    print(char_in_box(loc,char_df))\n",
    "print(\"---\")"
   ]
  },
  {
   "cell_type": "code",
   "execution_count": null,
   "metadata": {},
   "outputs": [],
   "source": []
  },
  {
   "cell_type": "code",
   "execution_count": null,
   "metadata": {},
   "outputs": [],
   "source": []
  }
 ],
 "metadata": {
  "kernelspec": {
   "display_name": "Python 3",
   "language": "python",
   "name": "python3"
  },
  "language_info": {
   "codemirror_mode": {
    "name": "ipython",
    "version": 3
   },
   "file_extension": ".py",
   "mimetype": "text/x-python",
   "name": "python",
   "nbconvert_exporter": "python",
   "pygments_lexer": "ipython3",
   "version": "3.5.5"
  },
  "toc": {
   "colors": {
    "hover_highlight": "#DAA520",
    "navigate_num": "#000000",
    "navigate_text": "#333333",
    "running_highlight": "#FF0000",
    "selected_highlight": "#FFD700",
    "sidebar_border": "#EEEEEE",
    "wrapper_background": "#FFFFFF"
   },
   "moveMenuLeft": true,
   "nav_menu": {
    "height": "202px",
    "width": "254px"
   },
   "navigate_menu": true,
   "number_sections": true,
   "sideBar": true,
   "threshold": 4,
   "toc_cell": false,
   "toc_section_display": "block",
   "toc_window_display": false,
   "widenNotebook": false
  }
 },
 "nbformat": 4,
 "nbformat_minor": 2
}
