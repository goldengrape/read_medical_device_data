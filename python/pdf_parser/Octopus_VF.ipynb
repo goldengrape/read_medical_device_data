{
 "cells": [
  {
   "cell_type": "markdown",
   "metadata": {},
   "source": [
    "# 提取Octopus视野数据"
   ]
  },
  {
   "cell_type": "markdown",
   "metadata": {},
   "source": [
    "## 设定文件路径参数"
   ]
  },
  {
   "cell_type": "code",
   "execution_count": 15,
   "metadata": {
    "ExecuteTime": {
     "end_time": "2018-07-07T07:36:42.974859Z",
     "start_time": "2018-07-07T07:36:42.960674Z"
    }
   },
   "outputs": [],
   "source": [
    "if __name__==\"__main__\":\n",
    "    input_path='../../testdata/Octopus'\n",
    "    output_path=\"../../testdata/Octopus\"\n",
    "    fname=\"20130106动态视野(Octopus) .pdf\" # for test"
   ]
  },
  {
   "cell_type": "markdown",
   "metadata": {},
   "source": [
    "## 导入依赖包"
   ]
  },
  {
   "cell_type": "markdown",
   "metadata": {},
   "source": [
    "在使用notebook.azure.com在线运行时, 由于默认没有安装pdfminer.six这个包, 所以在首次运行时需要安装, 已经将安装代码加入到下面导入依赖包的代码内, 因此首次运行时速度会较慢. \n",
    "\n",
    "同时, 在使用notebook.azure.com在线运行时, 服务器端不会保存曾经安装过的包, 因此在1小时没有操作之后, 服务器会关闭, 再次打开时就已经丢失了之前安装的包, 相当于首次运行. "
   ]
  },
  {
   "cell_type": "code",
   "execution_count": 2,
   "metadata": {
    "ExecuteTime": {
     "end_time": "2018-07-06T09:36:51.568464Z",
     "start_time": "2018-07-06T09:36:50.740750Z"
    }
   },
   "outputs": [],
   "source": [
    "import sys\n",
    "import os\n",
    "import os.path\n",
    "import io\n",
    "import re\n",
    "import pandas as pd\n",
    "from pandas import Series,DataFrame\n",
    "import numpy as np\n",
    "\n",
    "try:\n",
    "    from pdfminer.pdfinterp import PDFResourceManager, PDFPageInterpreter\n",
    "    from pdfminer.pdfpage import PDFPage\n",
    "    from pdfminer.converter import XMLConverter, HTMLConverter, TextConverter\n",
    "    from pdfminer.layout import LAParams\n",
    "except:\n",
    "    !conda install pdfminer.six --yes\n",
    "    from pdfminer.pdfinterp import PDFResourceManager, PDFPageInterpreter\n",
    "    from pdfminer.pdfpage import PDFPage\n",
    "    from pdfminer.converter import XMLConverter, HTMLConverter, TextConverter\n",
    "    from pdfminer.layout import LAParams\n"
   ]
  },
  {
   "cell_type": "code",
   "execution_count": 102,
   "metadata": {
    "ExecuteTime": {
     "end_time": "2018-07-07T13:12:25.607343Z",
     "start_time": "2018-07-07T13:12:25.595246Z"
    }
   },
   "outputs": [],
   "source": [
    "filename=os.path.join(input_path,\"o1.html\")\n",
    "with open(filename, 'rt') as f:\n",
    "    data = f.read()"
   ]
  },
  {
   "cell_type": "code",
   "execution_count": 142,
   "metadata": {
    "ExecuteTime": {
     "end_time": "2018-07-08T02:00:50.416744Z",
     "start_time": "2018-07-08T02:00:50.405130Z"
    }
   },
   "outputs": [],
   "source": [
    "span_left='<span style=\"position:absolute; color:black; left:(\\d+)px; top:(\\d+)px; font-size:\\d+px;\">'\n",
    "span_right=\"</span>\"\n",
    "value=re.findall(span_left+\"([\\s\\S]+?)\"+span_right, data)\n",
    "d1=DataFrame(value, columns=[\"X\",\"Y\",\"V\"])\n",
    "d1[\"X\"]=d1[\"X\"].astype(int);\n",
    "d1[\"Y\"]=d1[\"Y\"].astype(int);"
   ]
  },
  {
   "cell_type": "code",
   "execution_count": 141,
   "metadata": {
    "ExecuteTime": {
     "end_time": "2018-07-08T02:00:41.575385Z",
     "start_time": "2018-07-08T02:00:41.568031Z"
    }
   },
   "outputs": [],
   "source": [
    "block_span='<span style=\"position:absolute; border: black 1px solid; left:(\\d+)px; top:(\\d+)px; width:(\\d{3})px; height:(\\d{3})px;\"></span>'\n",
    "block=re.findall(block_span,data)"
   ]
  },
  {
   "cell_type": "code",
   "execution_count": 139,
   "metadata": {
    "ExecuteTime": {
     "end_time": "2018-07-08T02:00:14.946389Z",
     "start_time": "2018-07-08T02:00:14.940270Z"
    }
   },
   "outputs": [],
   "source": [
    "def char_in_box(box, df):\n",
    "    x0,y0,dx,dy=(int(u) for u in box)\n",
    "    part=(df.where((df[\"X\"]>x0) & (df[\"X\"]<x0+dx) & \n",
    "                   (df[\"Y\"]>y0) & (df[\"Y\"]<y0+dy) )\n",
    "            .dropna())\n",
    "    return \"\".join(part[\"V\"].tolist())"
   ]
  },
  {
   "cell_type": "code",
   "execution_count": 140,
   "metadata": {
    "ExecuteTime": {
     "end_time": "2018-07-08T02:00:15.398766Z",
     "start_time": "2018-07-08T02:00:15.369301Z"
    }
   },
   "outputs": [
    {
     "data": {
      "text/plain": [
       "'201721201414226262615131216221817101017151225292620151316131214151211171616112012202315991920161014211423221811192218.312.615.819.5'"
      ]
     },
     "execution_count": 140,
     "metadata": {},
     "output_type": "execute_result"
    }
   ],
   "source": [
    "char_in_box(block[1], d1)"
   ]
  },
  {
   "cell_type": "code",
   "execution_count": null,
   "metadata": {},
   "outputs": [],
   "source": []
  }
 ],
 "metadata": {
  "kernelspec": {
   "display_name": "Python 3",
   "language": "python",
   "name": "python3"
  },
  "language_info": {
   "codemirror_mode": {
    "name": "ipython",
    "version": 3
   },
   "file_extension": ".py",
   "mimetype": "text/x-python",
   "name": "python",
   "nbconvert_exporter": "python",
   "pygments_lexer": "ipython3",
   "version": "3.5.5"
  },
  "toc": {
   "colors": {
    "hover_highlight": "#DAA520",
    "navigate_num": "#000000",
    "navigate_text": "#333333",
    "running_highlight": "#FF0000",
    "selected_highlight": "#FFD700",
    "sidebar_border": "#EEEEEE",
    "wrapper_background": "#FFFFFF"
   },
   "moveMenuLeft": true,
   "nav_menu": {
    "height": "202px",
    "width": "254px"
   },
   "navigate_menu": true,
   "number_sections": true,
   "sideBar": true,
   "threshold": 4,
   "toc_cell": false,
   "toc_section_display": "block",
   "toc_window_display": false,
   "widenNotebook": false
  }
 },
 "nbformat": 4,
 "nbformat_minor": 2
}
