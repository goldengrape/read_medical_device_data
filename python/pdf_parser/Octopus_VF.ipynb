{
 "cells": [
  {
   "cell_type": "markdown",
   "metadata": {},
   "source": [
    "# 提取Octopus视野数据"
   ]
  },
  {
   "cell_type": "markdown",
   "metadata": {},
   "source": [
    "## 设定文件路径参数"
   ]
  },
  {
   "cell_type": "code",
   "execution_count": 1,
   "metadata": {
    "ExecuteTime": {
     "end_time": "2018-07-08T10:26:20.657526Z",
     "start_time": "2018-07-08T10:26:20.650193Z"
    }
   },
   "outputs": [],
   "source": [
    "if __name__==\"__main__\":\n",
    "    input_path='../../testdata/Octopus'\n",
    "    output_path=\"../../testdata/Octopus\"\n",
    "    fname=\"20170406动态视野(Octopus) .pdf\" # for test"
   ]
  },
  {
   "cell_type": "markdown",
   "metadata": {},
   "source": [
    "## 导入依赖包"
   ]
  },
  {
   "cell_type": "markdown",
   "metadata": {},
   "source": [
    "在使用notebook.azure.com在线运行时, 由于默认没有安装pdfminer.six这个包, 所以在首次运行时需要安装, 已经将安装代码加入到下面导入依赖包的代码内, 因此首次运行时速度会较慢. \n",
    "\n",
    "同时, 在使用notebook.azure.com在线运行时, 服务器端不会保存曾经安装过的包, 因此在1小时没有操作之后, 服务器会关闭, 再次打开时就已经丢失了之前安装的包, 相当于首次运行. "
   ]
  },
  {
   "cell_type": "code",
   "execution_count": 2,
   "metadata": {
    "ExecuteTime": {
     "end_time": "2018-07-08T10:26:21.584069Z",
     "start_time": "2018-07-08T10:26:20.661082Z"
    }
   },
   "outputs": [],
   "source": [
    "import sys\n",
    "import os\n",
    "import os.path\n",
    "import io\n",
    "import re\n",
    "import pandas as pd\n",
    "from pandas import Series,DataFrame\n",
    "import numpy as np\n",
    "\n",
    "try:\n",
    "    from pdfminer.pdfinterp import PDFResourceManager, PDFPageInterpreter\n",
    "    from pdfminer.pdfpage import PDFPage\n",
    "    from pdfminer.converter import XMLConverter, HTMLConverter, TextConverter\n",
    "    from pdfminer.layout import LAParams\n",
    "    from pdfminer.image import ImageWriter\n",
    "except:\n",
    "    !conda install pdfminer.six --yes\n",
    "    from pdfminer.pdfinterp import PDFResourceManager, PDFPageInterpreter\n",
    "    from pdfminer.pdfpage import PDFPage\n",
    "    from pdfminer.converter import XMLConverter, HTMLConverter, TextConverter\n",
    "    from pdfminer.layout import LAParams\n",
    "    from pdfminer.image import ImageWriter\n"
   ]
  },
  {
   "cell_type": "markdown",
   "metadata": {},
   "source": [
    "# 读取原始数据"
   ]
  },
  {
   "cell_type": "markdown",
   "metadata": {},
   "source": [
    "使用导出成html文本的方式, 将PDF文件中的每一个字符定位后导出.\n",
    "由于对字符位置高度依赖, 所以文件必须以A4形式导出."
   ]
  },
  {
   "cell_type": "code",
   "execution_count": 3,
   "metadata": {
    "ExecuteTime": {
     "end_time": "2018-07-08T10:26:21.596541Z",
     "start_time": "2018-07-08T10:26:21.587425Z"
    }
   },
   "outputs": [],
   "source": [
    "def pdf_prepare(input_path,fname):\n",
    "    filename=os.path.join(input_path,fname)\n",
    "    fp = open(filename, 'rb')\n",
    "    rsrcmgr = PDFResourceManager()\n",
    "    retstr = io.BytesIO()\n",
    "    codec = 'utf-8'\n",
    "    laparams = LAParams()\n",
    "    device = HTMLConverter(rsrcmgr, retstr, codec=codec, layoutmode=\"exact\", laparams=laparams)\n",
    "    # Create a PDF interpreter object.\n",
    "    interpreter = PDFPageInterpreter(rsrcmgr, device)\n",
    "    # Process each page contained in the document.\n",
    "    all_pages=[p for p in PDFPage.get_pages(fp)]\n",
    "    pdftool=(interpreter,retstr)\n",
    "    return pdftool, all_pages\n",
    "\n",
    "def pdf_parser(pdftool, page):\n",
    "    interpreter,retstr=pdftool\n",
    "    interpreter.process_page(page)\n",
    "    txt_string =  retstr.getvalue()\n",
    "    return  txt_string.decode(\"utf-8\")\n"
   ]
  },
  {
   "cell_type": "code",
   "execution_count": 4,
   "metadata": {
    "ExecuteTime": {
     "end_time": "2018-07-08T10:26:22.621064Z",
     "start_time": "2018-07-08T10:26:21.599202Z"
    }
   },
   "outputs": [],
   "source": [
    "pdftool, all_pages=pdf_prepare(input_path,fname)\n",
    "txt_data=pdf_parser(pdftool, all_pages[1])"
   ]
  },
  {
   "cell_type": "markdown",
   "metadata": {},
   "source": [
    "每个字符的位置"
   ]
  },
  {
   "cell_type": "code",
   "execution_count": 5,
   "metadata": {
    "ExecuteTime": {
     "end_time": "2018-07-08T10:26:22.629716Z",
     "start_time": "2018-07-08T10:26:22.623846Z"
    }
   },
   "outputs": [],
   "source": [
    "def get_all_char(txtdata):\n",
    "    span_left='<span style=\"position:absolute; color:black; left:(\\d+)px; top:(\\d+)px; font-size:\\d+px;\">'\n",
    "    span_right=\"</span>\"\n",
    "    value=re.findall(span_left+\"([\\s\\S]+?)\"+span_right, txtdata)\n",
    "    char_df=DataFrame(value, columns=[\"X\",\"Y\",\"V\"])\n",
    "    char_df[\"X\"]=char_df[\"X\"].astype(int);\n",
    "    char_df[\"Y\"]=char_df[\"Y\"].astype(int);\n",
    "    return char_df"
   ]
  },
  {
   "cell_type": "code",
   "execution_count": 6,
   "metadata": {
    "ExecuteTime": {
     "end_time": "2018-07-08T10:26:22.646660Z",
     "start_time": "2018-07-08T10:26:22.633454Z"
    }
   },
   "outputs": [],
   "source": [
    "char_df= get_all_char(txt_data)\n",
    "# char_df1= get_all_char(txt_data[1])"
   ]
  },
  {
   "cell_type": "markdown",
   "metadata": {},
   "source": [
    "从一个box内取出所包含的字符, 并拼接成字符串"
   ]
  },
  {
   "cell_type": "code",
   "execution_count": 7,
   "metadata": {
    "ExecuteTime": {
     "end_time": "2018-07-08T10:26:22.661376Z",
     "start_time": "2018-07-08T10:26:22.649930Z"
    }
   },
   "outputs": [],
   "source": [
    "def char_in_box(box, df):\n",
    "    '''\n",
    "    读取box范围内的字符, 并且拼接成字符串\n",
    "    '''\n",
    "    x0,y0,dx,dy=(int(u) for u in box)\n",
    "    part=(df.where((df[\"X\"]>x0) & (df[\"X\"]<x0+dx) & \n",
    "                   (df[\"Y\"]>y0) & (df[\"Y\"]<y0+dy) )\n",
    "            .dropna())\n",
    "    return \"\".join(part[\"V\"].tolist())"
   ]
  },
  {
   "cell_type": "code",
   "execution_count": 8,
   "metadata": {
    "ExecuteTime": {
     "end_time": "2018-07-08T10:26:22.680017Z",
     "start_time": "2018-07-08T10:26:22.667453Z"
    }
   },
   "outputs": [],
   "source": [
    "location_dict={\n",
    "    \"name and birthday\":(50,130,200,50), # 有不同的检查方式, 位置需要有一定的冗余\n",
    "    \"Eye and exam date time in G Standard\":(50,175,200,20), # 有不同的检查方式, 后面再切换\n",
    "    \"Eye and exam date time in LVC Standard\":(50,175,200,30), # 简单粗暴有效\n",
    "    \"Programs\":(120,700,130,4),\n",
    "    \"RF\":(300,720,100,10),\n",
    "    \"Pupil\":(100,745,100,10),   \n",
    "    \"MS\":(507,710,50,10),\n",
    "    \"MD\":(507,720,50,10),\n",
    "    \"sLV\":(507,720,50,10),\n",
    "}"
   ]
  },
  {
   "cell_type": "code",
   "execution_count": 9,
   "metadata": {
    "ExecuteTime": {
     "end_time": "2018-07-08T10:26:22.796887Z",
     "start_time": "2018-07-08T10:26:22.685181Z"
    }
   },
   "outputs": [
    {
     "name": "stdout",
     "output_type": "stream",
     "text": [
      "sLV : 12.6\n",
      "Eye and exam date time in G Standard : Right eye (OD) / 2017-04-06 / 10:03:40\n",
      "name and birthday : Wu wan fen, 1938-8-27\n",
      "Pupil : 4.1\n",
      "Eye and exam date time in LVC Standard : Right eye (OD) / 2017-04-06 / 10:03:40Seven-in-OneGreyscale (CO)\n",
      "MD : 12.6\n",
      "Programs : G Standard   White/White / TOP\n",
      "MS : 14.2\n",
      "RF : 0.0\n"
     ]
    }
   ],
   "source": [
    "for k,v in location_dict.items():\n",
    "    print(\"{} : {}\".format(k,char_in_box(v,char_df)))"
   ]
  },
  {
   "cell_type": "code",
   "execution_count": 10,
   "metadata": {
    "ExecuteTime": {
     "end_time": "2018-07-08T10:26:22.870877Z",
     "start_time": "2018-07-08T10:26:22.800174Z"
    }
   },
   "outputs": [
    {
     "name": "stdout",
     "output_type": "stream",
     "text": [
      "13\n",
      "13\n",
      "28\n",
      "25\n"
     ]
    }
   ],
   "source": [
    "value_c_x=450-5\n",
    "value_c_y=295-5\n",
    "value_location=[\n",
    "#     (371,216,164,164), # 最大范围\n",
    "#     (value_c_x,value_c_y,10,10), # 中心\n",
    "#     (value_c_x-5,value_c_y-5,10,10), # 顺时针渐开螺线, 第一圈\n",
    "#     (value_c_x+5,value_c_y-5,10,10),\n",
    "#     (value_c_x+5,value_c_y+5,10,10), \n",
    "#     (value_c_x-5,value_c_y+5,10,10), \n",
    "    (value_c_x-10,value_c_y-10,10,10), #第2圈\n",
    "    (value_c_x+15,value_c_y-10,10,10),\n",
    "    (value_c_x+15,value_c_y+10,10,10),\n",
    "    (value_c_x-10,value_c_y+10,10,10),\n",
    "\n",
    "]\n",
    "\n",
    "for loc in value_location:\n",
    "    print(char_in_box(loc,char_df))"
   ]
  },
  {
   "cell_type": "code",
   "execution_count": null,
   "metadata": {},
   "outputs": [],
   "source": []
  },
  {
   "cell_type": "code",
   "execution_count": null,
   "metadata": {},
   "outputs": [],
   "source": []
  }
 ],
 "metadata": {
  "kernelspec": {
   "display_name": "Python 3",
   "language": "python",
   "name": "python3"
  },
  "language_info": {
   "codemirror_mode": {
    "name": "ipython",
    "version": 3
   },
   "file_extension": ".py",
   "mimetype": "text/x-python",
   "name": "python",
   "nbconvert_exporter": "python",
   "pygments_lexer": "ipython3",
   "version": "3.5.5"
  },
  "toc": {
   "colors": {
    "hover_highlight": "#DAA520",
    "navigate_num": "#000000",
    "navigate_text": "#333333",
    "running_highlight": "#FF0000",
    "selected_highlight": "#FFD700",
    "sidebar_border": "#EEEEEE",
    "wrapper_background": "#FFFFFF"
   },
   "moveMenuLeft": true,
   "nav_menu": {
    "height": "202px",
    "width": "254px"
   },
   "navigate_menu": true,
   "number_sections": true,
   "sideBar": true,
   "threshold": 4,
   "toc_cell": false,
   "toc_section_display": "block",
   "toc_window_display": false,
   "widenNotebook": false
  }
 },
 "nbformat": 4,
 "nbformat_minor": 2
}
