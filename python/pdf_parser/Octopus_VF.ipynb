{
 "cells": [
  {
   "cell_type": "markdown",
   "metadata": {},
   "source": [
    "# 提取Octopus视野数据"
   ]
  },
  {
   "cell_type": "markdown",
   "metadata": {},
   "source": [
    "## 设定文件路径参数"
   ]
  },
  {
   "cell_type": "code",
   "execution_count": 1,
   "metadata": {
    "ExecuteTime": {
     "end_time": "2018-07-09T06:49:25.910560Z",
     "start_time": "2018-07-09T06:49:25.900710Z"
    }
   },
   "outputs": [],
   "source": [
    "if __name__==\"__main__\":\n",
    "    input_path='../../testdata/Octopus'\n",
    "    output_path=\"../../testdata/Octopus\"\n",
    "    fname=\"LVC20140903动态视野(Octopus).pdf\"\n",
    "    #pageno=0 # for test"
   ]
  },
  {
   "cell_type": "markdown",
   "metadata": {},
   "source": [
    "## 导入依赖包"
   ]
  },
  {
   "cell_type": "markdown",
   "metadata": {},
   "source": [
    "在使用notebook.azure.com在线运行时, 由于默认没有安装pdfminer.six这个包, 所以在首次运行时需要安装, 已经将安装代码加入到下面导入依赖包的代码内, 因此首次运行时速度会较慢. \n",
    "\n",
    "同时, 在使用notebook.azure.com在线运行时, 服务器端不会保存曾经安装过的包, 因此在1小时没有操作之后, 服务器会关闭, 再次打开时就已经丢失了之前安装的包, 相当于首次运行. "
   ]
  },
  {
   "cell_type": "code",
   "execution_count": 2,
   "metadata": {
    "ExecuteTime": {
     "end_time": "2018-07-09T06:49:26.440780Z",
     "start_time": "2018-07-09T06:49:25.913941Z"
    }
   },
   "outputs": [],
   "source": [
    "import sys\n",
    "import os\n",
    "import os.path\n",
    "import io\n",
    "import re\n",
    "import pandas as pd\n",
    "from pandas import Series,DataFrame\n",
    "import numpy as np\n",
    "\n",
    "try:\n",
    "    from pdfminer.pdfinterp import PDFResourceManager, PDFPageInterpreter\n",
    "    from pdfminer.pdfpage import PDFPage\n",
    "    from pdfminer.converter import XMLConverter, HTMLConverter, TextConverter\n",
    "    from pdfminer.layout import LAParams\n",
    "    from pdfminer.image import ImageWriter\n",
    "except:\n",
    "    !conda install pdfminer.six --yes\n",
    "    from pdfminer.pdfinterp import PDFResourceManager, PDFPageInterpreter\n",
    "    from pdfminer.pdfpage import PDFPage\n",
    "    from pdfminer.converter import XMLConverter, HTMLConverter, TextConverter\n",
    "    from pdfminer.layout import LAParams\n",
    "    from pdfminer.image import ImageWriter\n"
   ]
  },
  {
   "cell_type": "markdown",
   "metadata": {},
   "source": [
    "# 读取原始数据"
   ]
  },
  {
   "cell_type": "markdown",
   "metadata": {},
   "source": [
    "使用导出成html文本的方式, 将PDF文件中的每一个字符定位后导出.\n",
    "由于对字符位置高度依赖, 所以文件必须以A4形式导出."
   ]
  },
  {
   "cell_type": "code",
   "execution_count": 3,
   "metadata": {
    "ExecuteTime": {
     "end_time": "2018-07-09T06:49:26.462193Z",
     "start_time": "2018-07-09T06:49:26.444426Z"
    }
   },
   "outputs": [],
   "source": [
    "def get_pdf_page(input_path,fname):\n",
    "    '''\n",
    "    取得页面个数\n",
    "    '''\n",
    "    filename=os.path.join(input_path,fname)\n",
    "    fp = open(filename, 'rb')\n",
    "    return len([p for p in PDFPage.get_pages(fp)])"
   ]
  },
  {
   "cell_type": "code",
   "execution_count": 4,
   "metadata": {
    "ExecuteTime": {
     "end_time": "2018-07-09T06:49:26.481604Z",
     "start_time": "2018-07-09T06:49:26.467006Z"
    }
   },
   "outputs": [],
   "source": [
    "def pdf_parser(input_path,fname,page_number):\n",
    "    '''\n",
    "    取得转换为html的字符\n",
    "    '''\n",
    "    filename=os.path.join(input_path,fname)\n",
    "    fp = open(filename, 'rb')\n",
    "    rsrcmgr = PDFResourceManager()\n",
    "    retstr = io.BytesIO()\n",
    "    codec = 'utf-8'\n",
    "    laparams = LAParams()\n",
    "    device = HTMLConverter(rsrcmgr, retstr, \n",
    "                           codec=codec, layoutmode=\"exact\", laparams=laparams)\n",
    "    interpreter = PDFPageInterpreter(rsrcmgr, device)\n",
    "    all_pages=[p for p in PDFPage.get_pages(fp)]\n",
    "    interpreter.process_page(all_pages[page_number]) # 无法分成多个函数处理, 目前只能重新读取并处理\n",
    "    txt_string =  retstr.getvalue()\n",
    "    retstr.truncate(0)\n",
    "    return  txt_string.decode(\"utf-8\")"
   ]
  },
  {
   "cell_type": "markdown",
   "metadata": {},
   "source": [
    "每个字符的位置"
   ]
  },
  {
   "cell_type": "code",
   "execution_count": 5,
   "metadata": {
    "ExecuteTime": {
     "end_time": "2018-07-09T06:49:26.496162Z",
     "start_time": "2018-07-09T06:49:26.488442Z"
    }
   },
   "outputs": [],
   "source": [
    "def get_all_char(txtdata):\n",
    "    span_left='<span style=\"position:absolute; color:black; left:(\\d+)px; top:(\\d+)px; font-size:\\d+px;\">'\n",
    "    span_right=\"</span>\"\n",
    "    value=re.findall(span_left+\"([\\s\\S]+?)\"+span_right, txtdata)\n",
    "    char_df=DataFrame(value, columns=[\"X\",\"Y\",\"V\"])\n",
    "    char_df[\"X\"]=char_df[\"X\"].astype(int);\n",
    "    char_df[\"Y\"]=char_df[\"Y\"].astype(int);\n",
    "    return char_df"
   ]
  },
  {
   "cell_type": "markdown",
   "metadata": {},
   "source": [
    "从一个box内取出所包含的字符, 并拼接成字符串"
   ]
  },
  {
   "cell_type": "code",
   "execution_count": 6,
   "metadata": {
    "ExecuteTime": {
     "end_time": "2018-07-09T06:49:26.509632Z",
     "start_time": "2018-07-09T06:49:26.498667Z"
    }
   },
   "outputs": [],
   "source": [
    "def char_in_box(box, df):\n",
    "    '''\n",
    "    读取box范围内的字符, 并且拼接成字符串\n",
    "    '''\n",
    "    x0,y0,dx,dy=(int(u) for u in box)\n",
    "    part=(df.where((df[\"X\"]>x0) & (df[\"X\"]<x0+dx) & \n",
    "                   (df[\"Y\"]>y0) & (df[\"Y\"]<y0+dy) )\n",
    "            .dropna())\n",
    "    return \"\".join(part[\"V\"].tolist())"
   ]
  },
  {
   "cell_type": "markdown",
   "metadata": {},
   "source": [
    "# 提取相关信息"
   ]
  },
  {
   "cell_type": "markdown",
   "metadata": {},
   "source": [
    "各个信息是基于字符位置进行提取的, 因此只要指定每个信息所在的位置box即可, 位置box的定义为(left, top, width, height)"
   ]
  },
  {
   "cell_type": "markdown",
   "metadata": {},
   "source": [
    "## 提取基本信息\n",
    "包含:\n",
    "\"name\", \"birthday\",\"exam_date\",\"eye\", \"Programs_type\", \"RF\",\"Pupil\",\"MS\",\"MD\",\"sLV\""
   ]
  },
  {
   "cell_type": "code",
   "execution_count": 7,
   "metadata": {
    "ExecuteTime": {
     "end_time": "2018-07-09T06:49:26.543057Z",
     "start_time": "2018-07-09T06:49:26.515840Z"
    }
   },
   "outputs": [],
   "source": [
    "def get_basic_info(char_df):\n",
    "    location_dict={\n",
    "    \"name and birthday\":(50,130,200,50), # 有不同的检查方式, 位置需要有一定的冗余\n",
    "    \"Eye and exam date time in G Standard\":(50,175,200,20), # 有不同的检查方式, 后面再切换\n",
    "    \"Eye and exam date time in LVC Standard\":(50,175,200,30), # 简单粗暴有效\n",
    "    \"Programs\":(120,700,130,4),\n",
    "    \"RF\":(300,720,100,10),\n",
    "    \"Pupil\":(100,745,100,10),   \n",
    "    \"MS\":(507,710,50,10),\n",
    "    \"MD\":(507,720,50,10),\n",
    "    \"sLV\":(507,720,50,10),\n",
    "    }\n",
    "    Programs_type=char_in_box(location_dict[\"Programs\"],char_df)\n",
    "    if \"G Standard\" in Programs_type:\n",
    "        Eye_and_exam_date_time= \\\n",
    "         char_in_box(location_dict[\"Eye and exam date time in G Standard\"],char_df)\n",
    "    elif \"LVC Standard\" in Programs_type:\n",
    "        Eye_and_exam_date_time= \\\n",
    "        char_in_box(location_dict[\"Eye and exam date time in LVC Standard\"],char_df)\n",
    "#     print(Eye_and_exam_date_time.split(\"/\"))\n",
    "    eye, exam_date, exam_time =(x.strip() for x in Eye_and_exam_date_time.split(\"/\"))\n",
    "    \n",
    "    name_and_birthday=char_in_box(location_dict[\"name and birthday\"],char_df)\n",
    "    name, birthday=(x.strip() for x in name_and_birthday.split(\",\"))\n",
    "    \n",
    "    RF, Pupil, MS, MD, sLV=(char_in_box(location_dict[key],char_df)\n",
    "        for key in [\"RF\",\"Pupil\",\"MS\",\"MD\",\"sLV\"])\n",
    "    \n",
    "    s=Series([name, birthday,exam_date+\"/\"+exam_time,eye, Programs_type,RF,Pupil,MS,MD,sLV ],\n",
    "             index=[\"name\", \"birthday\",\"exam_date\",\"eye\", \"Programs_type\",\n",
    "                    \"RF\",\"Pupil\",\"MS\",\"MD\",\"sLV\"] )\n",
    "    s.birthday=pd.to_datetime(s.birthday)\n",
    "    s.exam_date=pd.to_datetime(s.exam_date)\n",
    "    s.iloc[5:]=pd.to_numeric(s.iloc[5:])\n",
    "    return s\n"
   ]
  },
  {
   "cell_type": "markdown",
   "metadata": {},
   "source": [
    "## 提取视野的原始数据\n",
    "数据从中心按照顺时针渐开线的方式排列成一维数组:\n",
    "\n",
    "![](https://i.loli.net/2018/07/08/5b421fb0a922a.png)\n"
   ]
  },
  {
   "cell_type": "code",
   "execution_count": 8,
   "metadata": {
    "ExecuteTime": {
     "end_time": "2018-07-09T06:49:26.809689Z",
     "start_time": "2018-07-09T06:49:26.554286Z"
    }
   },
   "outputs": [],
   "source": [
    "def get_VF_value(char_df):\n",
    "    value_c_x=445\n",
    "    value_c_y=290\n",
    "    value_location=[\n",
    "    #     (371,216,164,164), # 最大范围\n",
    "        (value_c_x,value_c_y,10,10), # 中心\n",
    "\n",
    "        (value_c_x+5,value_c_y+5,10,10), # 顺时针渐开螺线, 第1圈\n",
    "        (value_c_x-5,value_c_y+5,10,10), \n",
    "        (value_c_x-5,value_c_y-5,10,10), \n",
    "        (value_c_x+5,value_c_y-5,10,10),\n",
    "        ##第2圈\n",
    "        (value_c_x+15,value_c_y+10,10,10),\n",
    "        (value_c_x-10,value_c_y+10,10,10),\n",
    "        (value_c_x-10,value_c_y-10,10,10), \n",
    "        (value_c_x+15,value_c_y-10,10,10),\n",
    "\n",
    "        ##第3圈\n",
    "        (value_c_x+25,value_c_y+5,10,10),\n",
    "        (value_c_x+25,value_c_y+20,10,10), # 第3圈, 下横(从右到左)\n",
    "        (value_c_x+10,value_c_y+20,10,10),\n",
    "        (value_c_x-5,value_c_y+20,10,10),\n",
    "        (value_c_x-20,value_c_y+20,10,10), # 第3圈, 左竖,从下到上\n",
    "        (value_c_x-20,value_c_y+5,10,10),\n",
    "        (value_c_x-20,value_c_y-5,10,10),\n",
    "        (value_c_x-20,value_c_y-20,10,10), # 上横\n",
    "        (value_c_x-5,value_c_y-20,10,10),\n",
    "        (value_c_x+5,value_c_y-20,10,10),\n",
    "        (value_c_x+25,value_c_y-20,10,10), #第3圈, 右竖\n",
    "        (value_c_x+25,value_c_y-5,10,10),\n",
    "\n",
    "        ## 第4圈,\n",
    "        (value_c_x+40,value_c_y+10,10,10),\n",
    "        (value_c_x+35,value_c_y+35,10,10),\n",
    "        (value_c_x+15,value_c_y+35,10,10),\n",
    "        (value_c_x-10,value_c_y+35,10,10), \n",
    "        (value_c_x-30,value_c_y+35,10,10),  \n",
    "        (value_c_x-35,value_c_y+10,10,10),\n",
    "        (value_c_x-35,value_c_y-10,10,10),\n",
    "        (value_c_x-30,value_c_y-35,10,10),  \n",
    "        (value_c_x-10,value_c_y-35,10,10), \n",
    "        (value_c_x+15,value_c_y-35,10,10),\n",
    "        (value_c_x+35,value_c_y-35,10,10),\n",
    "        (value_c_x+40,value_c_y-10,10,10),    \n",
    "\n",
    "        # 第5圈\n",
    "        (value_c_x+55,value_c_y+10,15,10),\n",
    "        (value_c_x+55,value_c_y+30,10,10),\n",
    "        (value_c_x+55,value_c_y+50,10,10),\n",
    "        (value_c_x+35,value_c_y+50,10,10),\n",
    "        (value_c_x+15,value_c_y+50,10,10),\n",
    "        (value_c_x-10,value_c_y+50,10,10),\n",
    "        (value_c_x-30,value_c_y+50,10,10),\n",
    "        (value_c_x-50,value_c_y+50,10,10),\n",
    "        (value_c_x-50,value_c_y+30,10,10),\n",
    "        (value_c_x-55,value_c_y+10,15,10), # 左右眼略有差别, 宽度加大一些,增加冗余\n",
    "        (value_c_x-55,value_c_y-10,15,10),\n",
    "        (value_c_x-50,value_c_y-30,10,10), # 这圈好大\n",
    "        (value_c_x-50,value_c_y-50,10,10), \n",
    "        (value_c_x-30,value_c_y-50,10,10),\n",
    "        (value_c_x-10,value_c_y-50,10,10),\n",
    "        (value_c_x+10,value_c_y-50,15,10),\n",
    "        (value_c_x+30,value_c_y-50,15,10),\n",
    "        (value_c_x+55,value_c_y-50,10,10),\n",
    "        (value_c_x+55,value_c_y-30,10,10),\n",
    "        (value_c_x+55,value_c_y-10,15,10),\n",
    "\n",
    "        ## 最外8个\n",
    "        (value_c_x+70,value_c_y+10,20,20),\n",
    "        (value_c_x+20,value_c_y+70,20,20),\n",
    "        (value_c_x-20,value_c_y+70,20,20),\n",
    "        (value_c_x-80,value_c_y+15,20,20),\n",
    "        (value_c_x-80,value_c_y-20,20,20),\n",
    "        (value_c_x-20,value_c_y-70,10,10), \n",
    "        (value_c_x+20,value_c_y-70,20,10),  \n",
    "        (value_c_x+70,value_c_y-20,20,20),\n",
    "    ]\n",
    "    VF_values=[(char_in_box(v,char_df).strip()) for v in value_location]\n",
    "    VF_s=Series(VF_values)\n",
    "    return pd.to_numeric(VF_s)"
   ]
  },
  {
   "cell_type": "code",
   "execution_count": null,
   "metadata": {},
   "outputs": [],
   "source": [
    "def get_LVC_value(char_df):\n",
    "    LVC_value_location=[\n",
    "    #第1行\n",
    "    (230,250,10,10), \n",
    "    (275,250,10,10),\n",
    "    (320,250,10,10),\n",
    "    (365,250,10,10),\n",
    "    \n",
    "    #第2行\n",
    "    (185,295,10,10),\n",
    "    (230,295,10,10),\n",
    "    (275,295,10,10),\n",
    "    (320,295,10,10),\n",
    "    (365,295,10,10),\n",
    "    (410,295,10,10),\n",
    "    \n",
    "    #第3行        \n",
    "    (140,340,10,10),\n",
    "    (185,340,10,10),\n",
    "    (230,340,10,10),\n",
    "    (275,340,10,10),\n",
    "    (320,340,10,10),\n",
    "    (365,340,10,10),\n",
    "    (410,340,10,10),\n",
    "    (455,340,10,10),\n",
    "    \n",
    "    #第4行\n",
    "    (95,385,10,10),\n",
    "    (140,385,10,10),\n",
    "    (185,385,10,10),\n",
    "    (230,385,10,10),\n",
    "    (275,385,10,10),\n",
    "    (320,385,10,10),\n",
    "    (365,385,10,10),\n",
    "    (410,385,10,10),\n",
    "    (455,385,10,10),\n",
    "    (500,385,10,10),\n",
    "    \n",
    "    #第5行\n",
    "    (95,430,10,10),\n",
    "    (140,430,10,10),\n",
    "    (185,430,10,10),\n",
    "    (230,430,10,10),\n",
    "    (275,430,10,10),\n",
    "    (320,430,10,10),\n",
    "    (365,430,10,10),\n",
    "    (410,430,10,10),\n",
    "    (455,430,10,10),\n",
    "    (500,430,10,10),\n",
    "    \n",
    "    #中心点\n",
    "    (295,450,10,10)\n",
    "    \n",
    "    #第6行\n",
    "    (95,475,10,10),\n",
    "    (140,475,10,10),\n",
    "    (185,475,10,10),\n",
    "    (230,475,10,10),\n",
    "    (275,475,10,10),\n",
    "    (320,475,10,10),\n",
    "    (365,475,10,10),\n",
    "    (410,475,10,10),\n",
    "    (455,475,10,10),\n",
    "    (500,475,10,10),\n",
    "    \n",
    "    #第7行\n",
    "    (95,520,10,10),\n",
    "    (140,520,10,10),\n",
    "    (185,520,10,10),\n",
    "    (230,520,10,10),\n",
    "    (275,520,10,10),\n",
    "    (320,520,10,10),\n",
    "    (365,520,10,10),\n",
    "    (410,520,10,10),\n",
    "    (455,520,10,10),\n",
    "    (500,520,10,10),\n",
    "    \n",
    "    #第8行        \n",
    "    (140,565,10,10),\n",
    "    (185,565,10,10),\n",
    "    (230,565,10,10),\n",
    "    (275,565,10,10),\n",
    "    (320,565,10,10),\n",
    "    (365,565,10,10),\n",
    "    (410,565,10,10),\n",
    "    (455,565,10,10),\n",
    "    \n",
    "    #第9行\n",
    "    (185,610,10,10),\n",
    "    (230,610,10,10),\n",
    "    (275,610,10,10),\n",
    "    (320,610,10,10),\n",
    "    (365,610,10,10),\n",
    "    (410,610,10,10),\n",
    "    \n",
    "    #第10行\n",
    "    (230,655,10,10), \n",
    "    (275,655,10,10),\n",
    "    (320,655,10,10),\n",
    "    (365,655,10,10),\n",
    "    ]\n",
    "    VF_values=[(char_in_box(v,char_df).strip()) for v in value_location]\n",
    "    VF_s=Series(VF_values)\n",
    "    return pd.to_numeric(VF_s)"
   ]
  },
  {
   "cell_type": "markdown",
   "metadata": {},
   "source": [
    "# 处理单个文件"
   ]
  },
  {
   "cell_type": "code",
   "execution_count": 9,
   "metadata": {
    "ExecuteTime": {
     "end_time": "2018-07-09T06:49:26.820993Z",
     "start_time": "2018-07-09T06:49:26.813393Z"
    }
   },
   "outputs": [],
   "source": [
    "def process_single_file(input_path,fname, output_path, save=False):\n",
    "    print(\"process the file: \", os.path.join(input_path,fname))\n",
    "    total_page=get_pdf_page(input_path,fname)\n",
    "    series_list=[]\n",
    "    for p_number in range(total_page):\n",
    "        t_data=pdf_parser(input_path,fname,p_number)\n",
    "        c_df= get_all_char(t_data)\n",
    "        s1=get_basic_info(c_df)\n",
    "        if \"G Standard\" in s1.Programs_type:\n",
    "            s2=get_VF_value(c_df)\n",
    "        elif: \"LVC\" in s1.Programs_type:\n",
    "            s2=get_LVC_value(char_df)\n",
    "        s=pd.concat([s1, s2])\n",
    "        series_list.append(s)\n",
    "        if save:\n",
    "            df=DataFrame(s)\n",
    "            output_fname=os.path.join(output_path, \n",
    "                                      \"{}_p{}.csv\".format(os.path.splitext(fname)[0],p_number+1))\n",
    "            df.to_csv(output_fname)\n",
    "            print(\"save to \"+output_fname)\n",
    "    \n",
    "    return series_list"
   ]
  },
  {
   "cell_type": "markdown",
   "metadata": {},
   "source": [
    "# 处理目录"
   ]
  },
  {
   "cell_type": "code",
   "execution_count": 10,
   "metadata": {
    "ExecuteTime": {
     "end_time": "2018-07-09T06:49:26.828512Z",
     "start_time": "2018-07-09T06:49:26.824174Z"
    }
   },
   "outputs": [],
   "source": [
    "def process_file_list(input_path, output_path, filename_list, save=False):\n",
    "    series_list=[]\n",
    "    for fname in filename_list:\n",
    "        s_list=process_single_file(input_path,fname, output_path, save=save)\n",
    "        for s in s_list:\n",
    "            series_list.append(s)\n",
    "    return DataFrame(series_list) "
   ]
  },
  {
   "cell_type": "code",
   "execution_count": 11,
   "metadata": {
    "ExecuteTime": {
     "end_time": "2018-07-09T06:49:26.838670Z",
     "start_time": "2018-07-09T06:49:26.832072Z"
    }
   },
   "outputs": [],
   "source": [
    "def process_folder(input_path, output_path, save_together=True, save_individual=False):\n",
    "    pdffiles = [name for name in os.listdir(input_path)\n",
    "            if name.endswith('.pdf')]\n",
    "    df= process_file_list(input_path, output_path, pdffiles, save=save_individual)\n",
    "    if save_together:\n",
    "        df.to_csv(os.path.join(output_path, \"octopus_data.csv\"))\n",
    "    print(\"DONE\")\n",
    "    return df"
   ]
  },
  {
   "cell_type": "markdown",
   "metadata": {},
   "source": [
    "# 保存数据"
   ]
  },
  {
   "cell_type": "code",
   "execution_count": 12,
   "metadata": {
    "ExecuteTime": {
     "end_time": "2018-07-09T06:49:26.846264Z",
     "start_time": "2018-07-09T06:49:26.842006Z"
    }
   },
   "outputs": [],
   "source": [
    "if __name__==\"__main__\":    \n",
    "    df=process_folder(input_path, output_path, save_together=True, save_individual=True)\n"
   ]
  }
 ],
 "metadata": {
  "kernelspec": {
   "display_name": "Python 3",
   "language": "python",
   "name": "python3"
  },
  "language_info": {
   "codemirror_mode": {
    "name": "ipython",
    "version": 3
   },
   "file_extension": ".py",
   "mimetype": "text/x-python",
   "name": "python",
   "nbconvert_exporter": "python",
   "pygments_lexer": "ipython3",
   "version": "3.5.5"
  },
  "toc": {
   "colors": {
    "hover_highlight": "#DAA520",
    "navigate_num": "#000000",
    "navigate_text": "#333333",
    "running_highlight": "#FF0000",
    "selected_highlight": "#FFD700",
    "sidebar_border": "#EEEEEE",
    "wrapper_background": "#FFFFFF"
   },
   "moveMenuLeft": true,
   "nav_menu": {
    "height": "202px",
    "width": "254px"
   },
   "navigate_menu": true,
   "number_sections": true,
   "sideBar": true,
   "threshold": 4,
   "toc_cell": false,
   "toc_section_display": "block",
   "toc_window_display": false,
   "widenNotebook": false
  }
 },
 "nbformat": 4,
 "nbformat_minor": 2
}
