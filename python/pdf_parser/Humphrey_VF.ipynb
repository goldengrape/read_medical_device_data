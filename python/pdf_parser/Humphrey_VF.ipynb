{
 "cells": [
  {
   "cell_type": "markdown",
   "metadata": {},
   "source": [
    "# 提取Humphrey视野数据"
   ]
  },
  {
   "cell_type": "markdown",
   "metadata": {},
   "source": [
    "## 设定文件路径参数"
   ]
  },
  {
   "cell_type": "code",
   "execution_count": 1,
   "metadata": {
    "ExecuteTime": {
     "end_time": "2018-05-06T08:44:24.869057Z",
     "start_time": "2018-05-06T08:44:24.859556Z"
    }
   },
   "outputs": [],
   "source": [
    "if __name__==\"__main__\":\n",
    "    input_path='../../testdata/Humphrey'\n",
    "    output_path=\"../../testdata/Humphrey\"\n",
    "#     fname=\"右眼-sfa_zh.pdf\" # for test"
   ]
  },
  {
   "cell_type": "markdown",
   "metadata": {},
   "source": [
    "## 导入依赖包"
   ]
  },
  {
   "cell_type": "markdown",
   "metadata": {},
   "source": [
    "在使用notebook.azure.com在线运行时, 由于默认没有安装pdfminer.six这个包, 所以在首次运行时需要安装, 已经将安装代码加入到下面导入依赖包的代码内, 因此首次运行时速度会较慢. \n",
    "\n",
    "同时, 在使用notebook.azure.com在线运行时, 服务器端不会保存曾经安装过的包, 因此在1小时没有操作之后, 服务器会关闭, 再次打开时就已经丢失了之前安装的包, 相当于首次运行. "
   ]
  },
  {
   "cell_type": "code",
   "execution_count": 2,
   "metadata": {
    "ExecuteTime": {
     "end_time": "2018-05-06T08:44:25.619005Z",
     "start_time": "2018-05-06T08:44:24.877368Z"
    }
   },
   "outputs": [],
   "source": [
    "import sys\n",
    "import os\n",
    "import os.path\n",
    "import io\n",
    "import re\n",
    "import pandas as pd\n",
    "from pandas import Series,DataFrame\n",
    "import numpy as np\n",
    "\n",
    "try:\n",
    "    from pdfminer.pdfinterp import PDFResourceManager, PDFPageInterpreter\n",
    "    from pdfminer.pdfpage import PDFPage\n",
    "    from pdfminer.converter import XMLConverter, HTMLConverter, TextConverter\n",
    "    from pdfminer.layout import LAParams\n",
    "except:\n",
    "    !conda install pdfminer.six --yes\n",
    "    from pdfminer.pdfinterp import PDFResourceManager, PDFPageInterpreter\n",
    "    from pdfminer.pdfpage import PDFPage\n",
    "    from pdfminer.converter import XMLConverter, HTMLConverter, TextConverter\n",
    "    from pdfminer.layout import LAParams\n"
   ]
  },
  {
   "cell_type": "markdown",
   "metadata": {},
   "source": [
    "# 读取原始数据"
   ]
  },
  {
   "cell_type": "code",
   "execution_count": 3,
   "metadata": {
    "ExecuteTime": {
     "end_time": "2018-05-06T08:44:25.664115Z",
     "start_time": "2018-05-06T08:44:25.622254Z"
    }
   },
   "outputs": [],
   "source": [
    "def pdfparser(input_path,fname):\n",
    "    filename=os.path.join(input_path,fname)\n",
    "    fp = open(filename, 'rb')\n",
    "    rsrcmgr = PDFResourceManager()\n",
    "    retstr = io.StringIO()\n",
    "    codec = 'utf-8'\n",
    "    laparams = LAParams()\n",
    "    device = TextConverter(rsrcmgr, retstr, codec=codec, laparams=laparams)\n",
    "    # Create a PDF interpreter object.\n",
    "    interpreter = PDFPageInterpreter(rsrcmgr, device)\n",
    "    # Process each page contained in the document.\n",
    "\n",
    "    for page in PDFPage.get_pages(fp):\n",
    "        interpreter.process_page(page)\n",
    "        txt_string =  retstr.getvalue()\n",
    "        \n",
    "    ori_df=DataFrame(re.split(\"\\n\",txt_string))\n",
    "    ori_df.columns=[\"value\"]\n",
    "\n",
    "    return ori_df"
   ]
  },
  {
   "cell_type": "code",
   "execution_count": 4,
   "metadata": {
    "ExecuteTime": {
     "end_time": "2018-05-06T08:44:25.673257Z",
     "start_time": "2018-05-06T08:44:25.667647Z"
    }
   },
   "outputs": [],
   "source": [
    "# if __name__==\"__main__\":\n",
    "#     ori_df=pdfparser(input_path,fname)"
   ]
  },
  {
   "cell_type": "markdown",
   "metadata": {},
   "source": [
    "# 读取视野测量原始数据\n",
    "\n",
    "注意设定中英文和眼别"
   ]
  },
  {
   "cell_type": "code",
   "execution_count": 5,
   "metadata": {
    "ExecuteTime": {
     "end_time": "2018-05-06T08:44:25.823987Z",
     "start_time": "2018-05-06T08:44:25.677068Z"
    }
   },
   "outputs": [],
   "source": [
    "def check_eye(ori_df):\n",
    "    '''\n",
    "    确认眼别, 返回\"OD\"或\"OS\"\n",
    "    '''\n",
    "    if (ori_df['value']\n",
    "     .where(ori_df['value'].str.contains('^O[D|S] '))\n",
    "     .dropna()\n",
    "     .str.match(\"OD\")\n",
    "     .iloc[0]\n",
    "    ):\n",
    "        return \"OD\"\n",
    "    elif (ori_df['value']\n",
    "     .where(ori_df['value'].str.contains('^O[D|S] '))\n",
    "     .dropna()\n",
    "     .str.match(\"OS\")\n",
    "     .iloc[0]\n",
    "    ):\n",
    "        return \"OS\"\n",
    "    \n",
    "def get_version(ori_df):\n",
    "    '''\n",
    "    确认版本\n",
    "    '''\n",
    "    if ord(ori_df.iloc[0,0][0])<=ord('z'):\n",
    "        return \"en\"\n",
    "    elif ord(ori_df.iloc[0,0][0])>ord('z'):\n",
    "        return \"zh\"\n",
    "    \n",
    "def reformat_vf_data(data,eye):\n",
    "    data=data.where(data[\"value\"]!=\"\").dropna().replace(\"<0\",-1).reset_index()[\"value\"]\n",
    "\n",
    "    OD_index  =np.asarray([0, 0, 0,24,32,40,48, 0, 0,\n",
    "                           0, 0,17,25,33,41,49,57, 0,\n",
    "                           0,10,18,26,34,42,50,58,66,\n",
    "                           3,11,19,27,35,43,51,59,67,\n",
    "                           4,12,20,28,36,44,52,60,68,\n",
    "                           0,13,21,29,37,45,53,61,69,\n",
    "                           0, 0,22,30,38,46,54,62, 0,\n",
    "                           0, 0, 0,31,39,47,55, 0, 0]).reshape(8,9).T.reshape(-1)\n",
    "    OS_index =np.asarray([  0,0,16,24,32,40,0,0,0,\n",
    "                            0,9,17,25,33,41,49,0,0,\n",
    "                            2,10,18,26,34,42,50,58,0,\n",
    "                            3,11,19,27,35,43,51,59,67,\n",
    "                            4,12,20,28,36,44,52,60,68,\n",
    "                            5,13,21,29,37,45,53,61,0,\n",
    "                            0,14,22,30,38,46,54,0,0,\n",
    "                            0,0,23,31,39,47,0,0,0]).reshape(8,9).T.reshape(-1)\n",
    "    if eye==\"OD\":\n",
    "        index=OD_index[OD_index>0]\n",
    "    elif eye==\"OS\":\n",
    "        index=OS_index[OS_index>0]\n",
    "        \n",
    "    two_D_data=np.zeros(72)\n",
    "    for i in range(len(index)):\n",
    "        two_D_data[index[i]]=data[i]\n",
    "    df=DataFrame(two_D_data.reshape(9,8).T)\n",
    "    return df"
   ]
  },
  {
   "cell_type": "code",
   "execution_count": 6,
   "metadata": {
    "ExecuteTime": {
     "end_time": "2018-05-06T08:44:25.832833Z",
     "start_time": "2018-05-06T08:44:25.828611Z"
    }
   },
   "outputs": [],
   "source": [
    "# if __name__==\"__main__\":\n",
    "#     print(check_eye(ori_df))\n",
    "#     print(get_version(ori_df))"
   ]
  },
  {
   "cell_type": "code",
   "execution_count": 7,
   "metadata": {
    "ExecuteTime": {
     "end_time": "2018-05-06T08:44:25.856836Z",
     "start_time": "2018-05-06T08:44:25.836652Z"
    }
   },
   "outputs": [],
   "source": [
    "def get_vf_data(ori_df):\n",
    "    eye=check_eye(ori_df)\n",
    "    ver=get_version(ori_df)\n",
    "    if ver==\"en\":\n",
    "        data_pos=ori_df.where(ori_df[\"value\"]==\"30°\").dropna().index\n",
    "        data=ori_df.iloc[data_pos[0]+1:data_pos[1]]\n",
    "    elif ver==\"zh\":\n",
    "#         data=pd.concat([ori_df[25:44],ori_df[58:145]])\n",
    "        data=(ori_df.where(ori_df.value.str.match(\"(<*\\d+)$\")) #有<0或者整数\n",
    "                   .dropna()\n",
    "#                    .reset_index()\n",
    "                   .iloc[:56,:])\n",
    "        if eye==\"OD\": # 右眼+中文的时候, 貌似把年龄数据混进来了\n",
    "            data.loc[70,:]=\"\" # 改法虽然难看, 但暂时可用\n",
    "            \n",
    "    return reformat_vf_data(data,eye)"
   ]
  },
  {
   "cell_type": "code",
   "execution_count": 8,
   "metadata": {
    "ExecuteTime": {
     "end_time": "2018-05-06T08:44:25.870193Z",
     "start_time": "2018-05-06T08:44:25.860190Z"
    }
   },
   "outputs": [],
   "source": [
    "# if __name__==\"__main__\":\n",
    "#     print(get_vf_data(ori_df))"
   ]
  },
  {
   "cell_type": "markdown",
   "metadata": {},
   "source": [
    "# 读取病人信息"
   ]
  },
  {
   "cell_type": "code",
   "execution_count": 9,
   "metadata": {
    "ExecuteTime": {
     "end_time": "2018-05-06T08:44:25.894983Z",
     "start_time": "2018-05-06T08:44:25.874437Z"
    }
   },
   "outputs": [],
   "source": [
    "def get_patient_info(ori_df):\n",
    "    basic_info=[re.split(\"[：|:]\",x) for x in ori_df.iloc[0:4,0] ]\n",
    "    basic_info.append([\"eye\", check_eye(ori_df)])\n",
    "    basic_info.append(\n",
    "        ['exam date',\n",
    "         (ori_df['value']\n",
    "             .where(ori_df['value'].str.contains('/[\\s\\S]*:'))\n",
    "             .dropna()\n",
    "             .str.findall(\"\\d+/\\d+/\\d+\")\n",
    "             .apply(lambda x: x[0])\n",
    "            ).iloc[0]]\n",
    "    )\n",
    "\n",
    "    \n",
    "    df=DataFrame(basic_info,columns=[\"item\",'value'])\n",
    "    return df"
   ]
  },
  {
   "cell_type": "code",
   "execution_count": 10,
   "metadata": {
    "ExecuteTime": {
     "end_time": "2018-05-06T08:44:25.902103Z",
     "start_time": "2018-05-06T08:44:25.898720Z"
    }
   },
   "outputs": [],
   "source": [
    "# if __name__==\"__main__\":\n",
    "#     print(get_patient_info(ori_df))"
   ]
  },
  {
   "cell_type": "markdown",
   "metadata": {},
   "source": [
    "# 读取统计值\n",
    "\n",
    "包含\n",
    "* 假阳性率：\n",
    "* 假阴性率：\n",
    "* VFI: \n",
    "* MD\n",
    "* PSD"
   ]
  },
  {
   "cell_type": "code",
   "execution_count": 11,
   "metadata": {
    "ExecuteTime": {
     "end_time": "2018-05-06T08:44:25.926604Z",
     "start_time": "2018-05-06T08:44:25.905178Z"
    }
   },
   "outputs": [],
   "source": [
    "def get_stat(ori_df):\n",
    "    df1=(ori_df['value']\n",
    "     .where(ori_df['value'].str.contains('%'))\n",
    "     .dropna()\n",
    "     .iloc[0:3]\n",
    "     .str.findall(\"(\\d+)%\")\n",
    "     .apply(lambda x:float(x[0])/100)\n",
    "     )\n",
    "    \n",
    "#     df.iloc[0:3]=df.iloc[0:3].str.findall(\"(\\d+)%\").apply(lambda x:float(x[0])/100)\n",
    "    \n",
    "    df2=(ori_df['value']\n",
    "     .where(ori_df['value'].str.contains('dB'))\n",
    "     .dropna()\n",
    "     .str.findall(\"(\\-*\\d.*\\d*)\\sdB\")\n",
    "     .apply(lambda x: float(x[0]))\n",
    "     )\n",
    "    df=pd.concat([df1,df2])\n",
    "    df.index=[\"False POS Errors %\",\"False NEG Errors %\",\"VFI %\",\"MD\",\"PSD\"]\n",
    "    return df"
   ]
  },
  {
   "cell_type": "code",
   "execution_count": 12,
   "metadata": {
    "ExecuteTime": {
     "end_time": "2018-05-06T08:44:25.935024Z",
     "start_time": "2018-05-06T08:44:25.930130Z"
    }
   },
   "outputs": [],
   "source": [
    "# if __name__==\"__main__\":\n",
    "#     print(get_stat(ori_df))"
   ]
  },
  {
   "cell_type": "markdown",
   "metadata": {},
   "source": [
    "# 保存数据\n"
   ]
  },
  {
   "cell_type": "code",
   "execution_count": 13,
   "metadata": {
    "ExecuteTime": {
     "end_time": "2018-05-06T08:44:25.982155Z",
     "start_time": "2018-05-06T08:44:25.938068Z"
    },
    "scrolled": true
   },
   "outputs": [],
   "source": [
    "def get_out_name(output_path,fname,cat):\n",
    "    return os.path.join(output_path,\"csv\", \"{}_{}.csv\".format(os.path.splitext(fname)[0],cat))\n",
    "\n",
    "def save_to_csv(input_path,output_path,fname):\n",
    "    ori_df=pdfparser(input_path,fname)\n",
    "    \n",
    "    data=get_vf_data(ori_df)\n",
    "    data.to_csv(get_out_name(output_path,fname,\"data\"),sep=',',header=False, index=False)\n",
    "    \n",
    "    patient_info=get_patient_info(ori_df)\n",
    "    patient_info.to_csv(get_out_name(output_path,fname,\"info\"),sep=',',header=False,index=False)\n",
    "    \n",
    "    stat=get_stat(ori_df)\n",
    "    stat.to_csv(get_out_name(output_path,fname,\"statistics\"),sep=',',header=False)\n",
    "    \n",
    "    together=pd.concat([patient_info,stat,data])\n",
    "    together.to_csv(get_out_name(output_path,fname,\"\"),sep=',',header=False)\n",
    "\n",
    "    return True"
   ]
  },
  {
   "cell_type": "markdown",
   "metadata": {},
   "source": [
    "# 处理目录"
   ]
  },
  {
   "cell_type": "code",
   "execution_count": 14,
   "metadata": {
    "ExecuteTime": {
     "end_time": "2018-05-06T08:44:26.002048Z",
     "start_time": "2018-05-06T08:44:25.987161Z"
    }
   },
   "outputs": [],
   "source": [
    "def convert_folder(input_path,output_path):\n",
    "    pdffiles = [name for name in os.listdir(input_path)\n",
    "            if name.endswith('.pdf')]\n",
    "    for fname in pdffiles:\n",
    "        print(\"Convert PDF file {} to CSV\".format(fname))\n",
    "        save_to_csv(input_path,output_path,fname)\n",
    "        print(\"done\")\n",
    "\n"
   ]
  },
  {
   "cell_type": "code",
   "execution_count": 15,
   "metadata": {
    "ExecuteTime": {
     "end_time": "2018-05-06T08:44:36.958407Z",
     "start_time": "2018-05-06T08:44:26.004509Z"
    }
   },
   "outputs": [
    {
     "name": "stdout",
     "output_type": "stream",
     "text": [
      "Convert PDF file LZB_OS-sfa(2).pdf to CSV\n"
     ]
    },
    {
     "name": "stderr",
     "output_type": "stream",
     "text": [
      "/Users/goldengrape/anaconda3/envs/blog/lib/python3.5/site-packages/pandas/core/indexes/api.py:87: RuntimeWarning: unorderable types: str() < int(), sort order is undefined for incomparable objects\n",
      "  result = result.union(other)\n"
     ]
    },
    {
     "name": "stdout",
     "output_type": "stream",
     "text": [
      "done\n",
      "Convert PDF file humphrey2_zh.pdf to CSV\n",
      "done\n",
      "Convert PDF file HFA_zh.pdf to CSV\n",
      "done\n",
      "Convert PDF file LZB_OD-sfa(2).pdf to CSV\n",
      "done\n",
      "Convert PDF file 左眼-sfa_en.pdf to CSV\n",
      "done\n",
      "Convert PDF file 右眼-sfa_zh.pdf to CSV\n",
      "done\n",
      "Convert PDF file humphrey1_en.pdf to CSV\n",
      "done\n"
     ]
    }
   ],
   "source": [
    "if __name__==\"__main__\":    \n",
    "    convert_folder(input_path,output_path)"
   ]
  },
  {
   "cell_type": "code",
   "execution_count": null,
   "metadata": {},
   "outputs": [],
   "source": []
  }
 ],
 "metadata": {
  "kernelspec": {
   "display_name": "Python 3",
   "language": "python",
   "name": "python3"
  },
  "language_info": {
   "codemirror_mode": {
    "name": "ipython",
    "version": 3
   },
   "file_extension": ".py",
   "mimetype": "text/x-python",
   "name": "python",
   "nbconvert_exporter": "python",
   "pygments_lexer": "ipython3",
   "version": "3.5.5"
  },
  "toc": {
   "colors": {
    "hover_highlight": "#DAA520",
    "navigate_num": "#000000",
    "navigate_text": "#333333",
    "running_highlight": "#FF0000",
    "selected_highlight": "#FFD700",
    "sidebar_border": "#EEEEEE",
    "wrapper_background": "#FFFFFF"
   },
   "moveMenuLeft": true,
   "nav_menu": {
    "height": "202px",
    "width": "254px"
   },
   "navigate_menu": true,
   "number_sections": true,
   "sideBar": true,
   "threshold": 4,
   "toc_cell": false,
   "toc_section_display": "block",
   "toc_window_display": false,
   "widenNotebook": false
  }
 },
 "nbformat": 4,
 "nbformat_minor": 2
}
