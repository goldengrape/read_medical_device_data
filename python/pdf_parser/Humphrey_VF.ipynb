{
 "cells": [
  {
   "cell_type": "markdown",
   "metadata": {},
   "source": [
    "# 提取Humphrey视野数据"
   ]
  },
  {
   "cell_type": "markdown",
   "metadata": {},
   "source": [
    "## 设定文件路径参数"
   ]
  },
  {
   "cell_type": "code",
   "execution_count": 1,
   "metadata": {
    "ExecuteTime": {
     "end_time": "2018-03-09T17:57:20.836705Z",
     "start_time": "2018-03-09T17:57:20.830725Z"
    },
    "collapsed": true
   },
   "outputs": [],
   "source": [
    "if __name__==\"__main__\":\n",
    "    input_path='../../testdata/Humphrey'\n",
    "    output_path=\"../../testdata/Humphrey\""
   ]
  },
  {
   "cell_type": "markdown",
   "metadata": {},
   "source": [
    "## 导入依赖包"
   ]
  },
  {
   "cell_type": "code",
   "execution_count": 2,
   "metadata": {
    "ExecuteTime": {
     "end_time": "2018-03-09T17:57:22.291451Z",
     "start_time": "2018-03-09T17:57:20.843629Z"
    },
    "collapsed": true
   },
   "outputs": [],
   "source": [
    "import sys\n",
    "import os\n",
    "import os.path\n",
    "\n",
    "from pdfminer.pdfinterp import PDFResourceManager, PDFPageInterpreter\n",
    "from pdfminer.pdfpage import PDFPage\n",
    "from pdfminer.converter import XMLConverter, HTMLConverter, TextConverter\n",
    "from pdfminer.layout import LAParams\n",
    "import io\n",
    "import re\n",
    "import pandas as pd\n",
    "from pandas import Series,DataFrame\n",
    "\n",
    "import numpy as np"
   ]
  },
  {
   "cell_type": "markdown",
   "metadata": {},
   "source": [
    "# 读取原始数据"
   ]
  },
  {
   "cell_type": "code",
   "execution_count": 3,
   "metadata": {
    "ExecuteTime": {
     "end_time": "2018-03-09T17:57:22.331511Z",
     "start_time": "2018-03-09T17:57:22.293624Z"
    },
    "collapsed": true
   },
   "outputs": [],
   "source": [
    "def pdfparser(input_path,fname):\n",
    "    filename=os.path.join(input_path,fname)\n",
    "    fp = open(filename, 'rb')\n",
    "    rsrcmgr = PDFResourceManager()\n",
    "    retstr = io.StringIO()\n",
    "    codec = 'utf-8'\n",
    "    laparams = LAParams()\n",
    "    device = TextConverter(rsrcmgr, retstr, codec=codec, laparams=laparams)\n",
    "    # Create a PDF interpreter object.\n",
    "    interpreter = PDFPageInterpreter(rsrcmgr, device)\n",
    "    # Process each page contained in the document.\n",
    "\n",
    "    for page in PDFPage.get_pages(fp):\n",
    "        interpreter.process_page(page)\n",
    "        txt_string =  retstr.getvalue()\n",
    "        \n",
    "    ori_df=DataFrame(re.split(\"\\n\",txt_string))\n",
    "    ori_df.columns=[\"value\"]\n",
    "\n",
    "    return ori_df"
   ]
  },
  {
   "cell_type": "markdown",
   "metadata": {},
   "source": [
    "# 读取视野测量原始数据\n",
    "\n",
    "注意设定中英文和眼别"
   ]
  },
  {
   "cell_type": "code",
   "execution_count": 4,
   "metadata": {
    "ExecuteTime": {
     "end_time": "2018-03-09T17:57:22.513845Z",
     "start_time": "2018-03-09T17:57:22.333936Z"
    },
    "collapsed": true
   },
   "outputs": [],
   "source": [
    "def check_eye(ori_df):\n",
    "    '''\n",
    "    确认眼别, 返回\"OD\"或\"OS\"\n",
    "    '''\n",
    "    if (ori_df['value']\n",
    "     .where(ori_df['value'].str.contains('^O[D|S] '))\n",
    "     .dropna()\n",
    "     .str.match(\"OD\")\n",
    "     .iloc[0]\n",
    "    ):\n",
    "        return \"OD\"\n",
    "    elif (ori_df['value']\n",
    "     .where(ori_df['value'].str.contains('^O[D|S] '))\n",
    "     .dropna()\n",
    "     .str.match(\"OS\")\n",
    "     .iloc[0]\n",
    "    ):\n",
    "        return \"OS\"\n",
    "    \n",
    "def get_version(ori_df):\n",
    "    '''\n",
    "    确认版本\n",
    "    '''\n",
    "    if ord(ori_df.iloc[0,0][0])<=ord('z'):\n",
    "        return \"en\"\n",
    "    elif ord(ori_df.iloc[0,0][0])>ord('z'):\n",
    "        return \"zh\"\n",
    "    \n",
    "def reformat_vf_data(data,eye):\n",
    "    data=data.where(data[\"value\"]!=\"\").dropna().replace(\"<0\",-1).reset_index()[\"value\"]\n",
    "\n",
    "    OD_index  =np.asarray([0, 0, 0,24,32,40,48, 0, 0,\n",
    "                           0, 0,17,25,33,41,49,57, 0,\n",
    "                           0,10,18,26,34,42,50,58,66,\n",
    "                           3,11,19,27,35,43,51,59,67,\n",
    "                           4,12,20,28,36,44,52,60,68,\n",
    "                           0,13,21,29,37,45,53,61,69,\n",
    "                           0, 0,22,30,38,46,54,62, 0,\n",
    "                           0, 0, 0,31,39,47,55, 0, 0]).reshape(8,9).T.reshape(-1)\n",
    "    OS_index =np.asarray([  0,0,16,24,32,40,0,0,0,\n",
    "                            0,9,17,25,33,41,49,0,0,\n",
    "                            2,10,18,26,34,42,50,58,0,\n",
    "                            3,11,19,27,35,43,51,59,67,\n",
    "                            4,12,20,28,36,44,52,60,68,\n",
    "                            5,13,21,29,37,45,53,61,0,\n",
    "                            0,14,22,30,38,46,54,0,0,\n",
    "                            0,0,23,31,39,47,0,0,0]).reshape(8,9).T.reshape(-1)\n",
    "    if eye==\"OD\":\n",
    "        index=OD_index[OD_index>0]\n",
    "    elif eye==\"OS\":\n",
    "        index=OS_index[OS_index>0]\n",
    "        \n",
    "    two_D_data=np.zeros(72)\n",
    "    for i in range(len(index)):\n",
    "        two_D_data[index[i]]=data[i]\n",
    "    df=DataFrame(two_D_data.reshape(9,8).T)\n",
    "    return df"
   ]
  },
  {
   "cell_type": "code",
   "execution_count": 5,
   "metadata": {
    "ExecuteTime": {
     "end_time": "2018-03-09T17:57:22.538381Z",
     "start_time": "2018-03-09T17:57:22.525645Z"
    },
    "collapsed": true
   },
   "outputs": [],
   "source": [
    "def get_vf_data(ori_df):\n",
    "    eye=check_eye(ori_df)\n",
    "    ver=get_version(ori_df)\n",
    "    if ver==\"en\":\n",
    "        data_pos=ori_df.where(ori_df[\"value\"]==\"30°\").dropna().index\n",
    "        data=ori_df.iloc[data_pos[0]+1:data_pos[1]]\n",
    "    elif ver==\"zh\":\n",
    "        data=pd.concat([ori_df[25:44],ori_df[58:145]])\n",
    "        \n",
    "    return reformat_vf_data(data,eye)"
   ]
  },
  {
   "cell_type": "markdown",
   "metadata": {},
   "source": [
    "# 读取病人信息"
   ]
  },
  {
   "cell_type": "code",
   "execution_count": 6,
   "metadata": {
    "ExecuteTime": {
     "end_time": "2018-03-09T17:57:22.560861Z",
     "start_time": "2018-03-09T17:57:22.540920Z"
    }
   },
   "outputs": [],
   "source": [
    "def get_patient_info(ori_df):\n",
    "    basic_info=[re.split(\"[：|:]\",x) for x in ori_df.iloc[0:4,0] ]\n",
    "    basic_info.append([\"eye\", check_eye(ori_df)])\n",
    "    basic_info.append(\n",
    "        ['exam date',\n",
    "         (ori_df['value']\n",
    "             .where(ori_df['value'].str.contains('/[\\s\\S]*:'))\n",
    "             .dropna()\n",
    "             .str.findall(\"\\d+/\\d+/\\d+\")\n",
    "             .apply(lambda x: x[0])\n",
    "            ).iloc[0]]\n",
    "    )\n",
    "\n",
    "    \n",
    "    df=DataFrame(basic_info,columns=[\"item\",'value'])\n",
    "    return df"
   ]
  },
  {
   "cell_type": "markdown",
   "metadata": {},
   "source": [
    "# 读取统计值\n",
    "\n",
    "包含\n",
    "* 假阳性率：\n",
    "* 假阴性率：\n",
    "* VFI: \n",
    "* MD\n",
    "* PSD"
   ]
  },
  {
   "cell_type": "code",
   "execution_count": 7,
   "metadata": {
    "ExecuteTime": {
     "end_time": "2018-03-09T17:57:22.602004Z",
     "start_time": "2018-03-09T17:57:22.564443Z"
    }
   },
   "outputs": [],
   "source": [
    "def get_stat(ori_df):\n",
    "    df=(ori_df['value']\n",
    "     .where(ori_df['value'].str.contains('%'))\n",
    "     .dropna()\n",
    "     .iloc[0:5]\n",
    "     )\n",
    "    df.index=[\"False POS Errors %\",\"False NEG Errors %\",\"VFI %\",\"MD\",\"PSD\"]\n",
    "    \n",
    "    df.iloc[0:3]=df.iloc[0:3].str.findall(\"(\\d+)%\").apply(lambda x:float(x[0])/100)\n",
    "    \n",
    "    df.loc[[\"MD\", \"PSD\"]]=(df.loc[[\"MD\", \"PSD\"]]\n",
    "       .str.findall(\"(\\-*\\d.*\\d*)(\\sdB)\")\n",
    "       .apply(lambda x: float(x[0][0]))\n",
    "                          )\n",
    "#     df=df.apply(float)\n",
    "    return df"
   ]
  },
  {
   "cell_type": "markdown",
   "metadata": {},
   "source": [
    "# 保存数据\n"
   ]
  },
  {
   "cell_type": "code",
   "execution_count": 8,
   "metadata": {
    "ExecuteTime": {
     "end_time": "2018-03-09T17:58:37.770462Z",
     "start_time": "2018-03-09T17:58:37.748753Z"
    },
    "scrolled": true
   },
   "outputs": [],
   "source": [
    "def get_out_name(output_path,fname,cat):\n",
    "    return os.path.join(output_path,\"csv\", \"{}_{}.csv\".format(os.path.splitext(fname)[0],cat))\n",
    "\n",
    "def save_to_csv(input_path,output_path,fname):\n",
    "    ori_df=pdfparser(input_path,fname)\n",
    "    \n",
    "    data=get_vf_data(ori_df)\n",
    "    data.to_csv(get_out_name(output_path,fname,\"data\"),sep=',',header=False, index=False)\n",
    "    \n",
    "    patient_info=get_patient_info(ori_df)\n",
    "    patient_info.to_csv(get_out_name(output_path,fname,\"info\"),sep=',',header=False,index=False)\n",
    "    \n",
    "    stat=get_stat(ori_df)\n",
    "    stat.to_csv(get_out_name(output_path,fname,\"statistics\"),sep=',',header=False)\n",
    "    \n",
    "    return True"
   ]
  },
  {
   "cell_type": "markdown",
   "metadata": {},
   "source": [
    "# 处理目录"
   ]
  },
  {
   "cell_type": "code",
   "execution_count": 9,
   "metadata": {
    "ExecuteTime": {
     "end_time": "2018-03-09T17:58:38.706574Z",
     "start_time": "2018-03-09T17:58:38.698395Z"
    },
    "collapsed": true
   },
   "outputs": [],
   "source": [
    "def convert_folder(input_path,output_path):\n",
    "    pdffiles = [name for name in os.listdir(input_path)\n",
    "            if name.endswith('.pdf')]\n",
    "    for fname in pdffiles:\n",
    "        print(\"Convert PDF file {} to CSV\".format(fname))\n",
    "        save_to_csv(input_path,output_path,fname)\n",
    "        print(\"done\")\n",
    "\n"
   ]
  },
  {
   "cell_type": "code",
   "execution_count": 10,
   "metadata": {
    "ExecuteTime": {
     "end_time": "2018-03-09T17:58:42.433078Z",
     "start_time": "2018-03-09T17:58:39.979784Z"
    }
   },
   "outputs": [
    {
     "name": "stdout",
     "output_type": "stream",
     "text": [
      "Convert PDF file HFA右眼.pdf to CSV\n"
     ]
    },
    {
     "ename": "ValueError",
     "evalue": "could not convert string to float: '0%'",
     "output_type": "error",
     "traceback": [
      "\u001b[0;31m---------------------------------------------------------------------------\u001b[0m",
      "\u001b[0;31mValueError\u001b[0m                                Traceback (most recent call last)",
      "\u001b[0;32m<ipython-input-10-a6a3db7f7455>\u001b[0m in \u001b[0;36m<module>\u001b[0;34m()\u001b[0m\n\u001b[1;32m      1\u001b[0m \u001b[0;32mif\u001b[0m \u001b[0m__name__\u001b[0m\u001b[0;34m==\u001b[0m\u001b[0;34m\"__main__\"\u001b[0m\u001b[0;34m:\u001b[0m\u001b[0;34m\u001b[0m\u001b[0m\n\u001b[0;32m----> 2\u001b[0;31m     \u001b[0mconvert_folder\u001b[0m\u001b[0;34m(\u001b[0m\u001b[0minput_path\u001b[0m\u001b[0;34m,\u001b[0m\u001b[0moutput_path\u001b[0m\u001b[0;34m)\u001b[0m\u001b[0;34m\u001b[0m\u001b[0m\n\u001b[0m",
      "\u001b[0;32m<ipython-input-9-d56caf771549>\u001b[0m in \u001b[0;36mconvert_folder\u001b[0;34m(input_path, output_path)\u001b[0m\n\u001b[1;32m      4\u001b[0m     \u001b[0;32mfor\u001b[0m \u001b[0mfname\u001b[0m \u001b[0;32min\u001b[0m \u001b[0mpdffiles\u001b[0m\u001b[0;34m:\u001b[0m\u001b[0;34m\u001b[0m\u001b[0m\n\u001b[1;32m      5\u001b[0m         \u001b[0mprint\u001b[0m\u001b[0;34m(\u001b[0m\u001b[0;34m\"Convert PDF file {} to CSV\"\u001b[0m\u001b[0;34m.\u001b[0m\u001b[0mformat\u001b[0m\u001b[0;34m(\u001b[0m\u001b[0mfname\u001b[0m\u001b[0;34m)\u001b[0m\u001b[0;34m)\u001b[0m\u001b[0;34m\u001b[0m\u001b[0m\n\u001b[0;32m----> 6\u001b[0;31m         \u001b[0msave_to_csv\u001b[0m\u001b[0;34m(\u001b[0m\u001b[0minput_path\u001b[0m\u001b[0;34m,\u001b[0m\u001b[0moutput_path\u001b[0m\u001b[0;34m,\u001b[0m\u001b[0mfname\u001b[0m\u001b[0;34m)\u001b[0m\u001b[0;34m\u001b[0m\u001b[0m\n\u001b[0m\u001b[1;32m      7\u001b[0m         \u001b[0mprint\u001b[0m\u001b[0;34m(\u001b[0m\u001b[0;34m\"done\"\u001b[0m\u001b[0;34m)\u001b[0m\u001b[0;34m\u001b[0m\u001b[0m\n\u001b[1;32m      8\u001b[0m \u001b[0;34m\u001b[0m\u001b[0m\n",
      "\u001b[0;32m<ipython-input-8-083a9cbff021>\u001b[0m in \u001b[0;36msave_to_csv\u001b[0;34m(input_path, output_path, fname)\u001b[0m\n\u001b[1;32m      5\u001b[0m     \u001b[0mori_df\u001b[0m\u001b[0;34m=\u001b[0m\u001b[0mpdfparser\u001b[0m\u001b[0;34m(\u001b[0m\u001b[0minput_path\u001b[0m\u001b[0;34m,\u001b[0m\u001b[0mfname\u001b[0m\u001b[0;34m)\u001b[0m\u001b[0;34m\u001b[0m\u001b[0m\n\u001b[1;32m      6\u001b[0m \u001b[0;34m\u001b[0m\u001b[0m\n\u001b[0;32m----> 7\u001b[0;31m     \u001b[0mdata\u001b[0m\u001b[0;34m=\u001b[0m\u001b[0mget_vf_data\u001b[0m\u001b[0;34m(\u001b[0m\u001b[0mori_df\u001b[0m\u001b[0;34m)\u001b[0m\u001b[0;34m\u001b[0m\u001b[0m\n\u001b[0m\u001b[1;32m      8\u001b[0m     \u001b[0mdata\u001b[0m\u001b[0;34m.\u001b[0m\u001b[0mto_csv\u001b[0m\u001b[0;34m(\u001b[0m\u001b[0mget_out_name\u001b[0m\u001b[0;34m(\u001b[0m\u001b[0moutput_path\u001b[0m\u001b[0;34m,\u001b[0m\u001b[0mfname\u001b[0m\u001b[0;34m,\u001b[0m\u001b[0;34m\"data\"\u001b[0m\u001b[0;34m)\u001b[0m\u001b[0;34m,\u001b[0m\u001b[0msep\u001b[0m\u001b[0;34m=\u001b[0m\u001b[0;34m','\u001b[0m\u001b[0;34m,\u001b[0m\u001b[0mheader\u001b[0m\u001b[0;34m=\u001b[0m\u001b[0;32mFalse\u001b[0m\u001b[0;34m,\u001b[0m \u001b[0mindex\u001b[0m\u001b[0;34m=\u001b[0m\u001b[0;32mFalse\u001b[0m\u001b[0;34m)\u001b[0m\u001b[0;34m\u001b[0m\u001b[0m\n\u001b[1;32m      9\u001b[0m \u001b[0;34m\u001b[0m\u001b[0m\n",
      "\u001b[0;32m<ipython-input-5-3bcc2fb9693b>\u001b[0m in \u001b[0;36mget_vf_data\u001b[0;34m(ori_df)\u001b[0m\n\u001b[1;32m      8\u001b[0m         \u001b[0mdata\u001b[0m\u001b[0;34m=\u001b[0m\u001b[0mpd\u001b[0m\u001b[0;34m.\u001b[0m\u001b[0mconcat\u001b[0m\u001b[0;34m(\u001b[0m\u001b[0;34m[\u001b[0m\u001b[0mori_df\u001b[0m\u001b[0;34m[\u001b[0m\u001b[0;36m25\u001b[0m\u001b[0;34m:\u001b[0m\u001b[0;36m44\u001b[0m\u001b[0;34m]\u001b[0m\u001b[0;34m,\u001b[0m\u001b[0mori_df\u001b[0m\u001b[0;34m[\u001b[0m\u001b[0;36m58\u001b[0m\u001b[0;34m:\u001b[0m\u001b[0;36m145\u001b[0m\u001b[0;34m]\u001b[0m\u001b[0;34m]\u001b[0m\u001b[0;34m)\u001b[0m\u001b[0;34m\u001b[0m\u001b[0m\n\u001b[1;32m      9\u001b[0m \u001b[0;34m\u001b[0m\u001b[0m\n\u001b[0;32m---> 10\u001b[0;31m     \u001b[0;32mreturn\u001b[0m \u001b[0mreformat_vf_data\u001b[0m\u001b[0;34m(\u001b[0m\u001b[0mdata\u001b[0m\u001b[0;34m,\u001b[0m\u001b[0meye\u001b[0m\u001b[0;34m)\u001b[0m\u001b[0;34m\u001b[0m\u001b[0m\n\u001b[0m",
      "\u001b[0;32m<ipython-input-4-4640064b21c1>\u001b[0m in \u001b[0;36mreformat_vf_data\u001b[0;34m(data, eye)\u001b[0m\n\u001b[1;32m     53\u001b[0m     \u001b[0mtwo_D_data\u001b[0m\u001b[0;34m=\u001b[0m\u001b[0mnp\u001b[0m\u001b[0;34m.\u001b[0m\u001b[0mzeros\u001b[0m\u001b[0;34m(\u001b[0m\u001b[0;36m72\u001b[0m\u001b[0;34m)\u001b[0m\u001b[0;34m\u001b[0m\u001b[0m\n\u001b[1;32m     54\u001b[0m     \u001b[0;32mfor\u001b[0m \u001b[0mi\u001b[0m \u001b[0;32min\u001b[0m \u001b[0mrange\u001b[0m\u001b[0;34m(\u001b[0m\u001b[0mlen\u001b[0m\u001b[0;34m(\u001b[0m\u001b[0mindex\u001b[0m\u001b[0;34m)\u001b[0m\u001b[0;34m)\u001b[0m\u001b[0;34m:\u001b[0m\u001b[0;34m\u001b[0m\u001b[0m\n\u001b[0;32m---> 55\u001b[0;31m         \u001b[0mtwo_D_data\u001b[0m\u001b[0;34m[\u001b[0m\u001b[0mindex\u001b[0m\u001b[0;34m[\u001b[0m\u001b[0mi\u001b[0m\u001b[0;34m]\u001b[0m\u001b[0;34m]\u001b[0m\u001b[0;34m=\u001b[0m\u001b[0mdata\u001b[0m\u001b[0;34m[\u001b[0m\u001b[0mi\u001b[0m\u001b[0;34m]\u001b[0m\u001b[0;34m\u001b[0m\u001b[0m\n\u001b[0m\u001b[1;32m     56\u001b[0m     \u001b[0mdf\u001b[0m\u001b[0;34m=\u001b[0m\u001b[0mDataFrame\u001b[0m\u001b[0;34m(\u001b[0m\u001b[0mtwo_D_data\u001b[0m\u001b[0;34m.\u001b[0m\u001b[0mreshape\u001b[0m\u001b[0;34m(\u001b[0m\u001b[0;36m9\u001b[0m\u001b[0;34m,\u001b[0m\u001b[0;36m8\u001b[0m\u001b[0;34m)\u001b[0m\u001b[0;34m.\u001b[0m\u001b[0mT\u001b[0m\u001b[0;34m)\u001b[0m\u001b[0;34m\u001b[0m\u001b[0m\n\u001b[1;32m     57\u001b[0m     \u001b[0;32mreturn\u001b[0m \u001b[0mdf\u001b[0m\u001b[0;34m\u001b[0m\u001b[0m\n",
      "\u001b[0;31mValueError\u001b[0m: could not convert string to float: '0%'"
     ]
    }
   ],
   "source": [
    "if __name__==\"__main__\":    \n",
    "    convert_folder(input_path,output_path)"
   ]
  },
  {
   "cell_type": "code",
   "execution_count": null,
   "metadata": {
    "collapsed": true
   },
   "outputs": [],
   "source": []
  }
 ],
 "metadata": {
  "kernelspec": {
   "display_name": "Python 3",
   "language": "python",
   "name": "python3"
  },
  "language_info": {
   "codemirror_mode": {
    "name": "ipython",
    "version": 3
   },
   "file_extension": ".py",
   "mimetype": "text/x-python",
   "name": "python",
   "nbconvert_exporter": "python",
   "pygments_lexer": "ipython3",
   "version": "3.5.2"
  },
  "toc": {
   "colors": {
    "hover_highlight": "#DAA520",
    "navigate_num": "#000000",
    "navigate_text": "#333333",
    "running_highlight": "#FF0000",
    "selected_highlight": "#FFD700",
    "sidebar_border": "#EEEEEE",
    "wrapper_background": "#FFFFFF"
   },
   "moveMenuLeft": true,
   "nav_menu": {
    "height": "202px",
    "width": "254px"
   },
   "navigate_menu": true,
   "number_sections": true,
   "sideBar": true,
   "threshold": 4,
   "toc_cell": false,
   "toc_section_display": "block",
   "toc_window_display": false,
   "widenNotebook": false
  }
 },
 "nbformat": 4,
 "nbformat_minor": 2
}
