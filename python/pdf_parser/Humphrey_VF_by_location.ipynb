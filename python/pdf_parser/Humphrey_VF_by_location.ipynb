{
 "cells": [
  {
   "cell_type": "markdown",
   "metadata": {},
   "source": [
    "# 提取Humphrey视野数据\n",
    "\n",
    "使用新的方式重构"
   ]
  },
  {
   "cell_type": "markdown",
   "metadata": {},
   "source": [
    "# 设定文件路径参数"
   ]
  },
  {
   "cell_type": "code",
   "execution_count": 1,
   "metadata": {},
   "outputs": [],
   "source": [
    "if __name__==\"__main__\":\n",
    "    input_path='../../testdata/Humphrey'\n",
    "    output_path=\"../../testdata/Humphrey\"\n",
    "    fname=\"chenhao1.pdf\"\n",
    "    info_location_path='../../medical_device_data/'\n",
    "    info_basic_fname=\"humphrey_basic_location.csv\"\n",
    "    info_30_2_fname=\"humphrey_30-2_location.csv\"\n",
    "    info_24_2_fname=\"humphrey_24-2_location.csv\"\n",
    "    info_fname_dict={\"basic\": info_basic_fname, \"30-2\":info_30_2_fname, \"24-2\":info_24_2_fname}\n",
    "#     fname=\"右眼-sfa_zh.pdf\" # for test"
   ]
  },
  {
   "cell_type": "markdown",
   "metadata": {},
   "source": [
    "## 导入依赖包"
   ]
  },
  {
   "cell_type": "markdown",
   "metadata": {},
   "source": [
    "在使用notebook.azure.com在线运行时, 由于默认没有安装pdfminer.six这个包, 所以在首次运行时需要安装, 已经将安装代码加入到下面导入依赖包的代码内, 因此首次运行时速度会较慢. \n",
    "\n",
    "同时, 在使用notebook.azure.com在线运行时, 服务器端不会保存曾经安装过的包, 因此在1小时没有操作之后, 服务器会关闭, 再次打开时就已经丢失了之前安装的包, 相当于首次运行. "
   ]
  },
  {
   "cell_type": "code",
   "execution_count": 2,
   "metadata": {},
   "outputs": [],
   "source": [
    "import sys\n",
    "import os\n",
    "import os.path\n",
    "import io\n",
    "import re\n",
    "import pandas as pd\n",
    "from pandas import Series,DataFrame\n",
    "import numpy as np\n",
    "\n",
    "try:\n",
    "    from pdfminer.pdfinterp import PDFResourceManager, PDFPageInterpreter\n",
    "    from pdfminer.pdfpage import PDFPage\n",
    "    from pdfminer.converter import XMLConverter, HTMLConverter, TextConverter\n",
    "    from pdfminer.layout import LAParams\n",
    "except:\n",
    "    !conda install pdfminer.six --yes\n",
    "    from pdfminer.pdfinterp import PDFResourceManager, PDFPageInterpreter\n",
    "    from pdfminer.pdfpage import PDFPage\n",
    "    from pdfminer.converter import XMLConverter, HTMLConverter, TextConverter\n",
    "    from pdfminer.layout import LAParams\n"
   ]
  },
  {
   "cell_type": "markdown",
   "metadata": {},
   "source": [
    "## 导入 PDF_parser_by_location \n",
    "PDF_parser_by_location 中将所有PDF转换成带有html, 其中每个字符均有定位, 通过选取一个方框来对一个数据或者单词进行选择. 各个数据的定位数据放置在相应的csv文件中, 由info_lation_path和info_fname保存"
   ]
  },
  {
   "cell_type": "code",
   "execution_count": 3,
   "metadata": {},
   "outputs": [],
   "source": [
    "from PDF_parser_by_location import read_data_from_location, pdf_parser"
   ]
  },
  {
   "cell_type": "markdown",
   "metadata": {},
   "source": [
    "# 读取"
   ]
  },
  {
   "cell_type": "code",
   "execution_count": 4,
   "metadata": {},
   "outputs": [],
   "source": [
    "def read_one_Humphrey_data(input_path, fname, info_location_path, info_fname):\n",
    "    page_number=0\n",
    "    df=read_data_from_location(input_path, fname, info_location_path, info_fname, page_number)\n",
    "    df=df.set_index(\"item_name\")\n",
    "    return df.T"
   ]
  },
  {
   "cell_type": "code",
   "execution_count": 5,
   "metadata": {},
   "outputs": [],
   "source": [
    "def get_humphrey_test_method(input_path, fname, info_location_path, info_fname_dict):\n",
    "    df=read_one_Humphrey_data(input_path, fname, info_location_path, info_fname_dict[\"basic\"])\n",
    "    return df.Test.values[0]"
   ]
  },
  {
   "cell_type": "code",
   "execution_count": 6,
   "metadata": {},
   "outputs": [],
   "source": [
    "def get_full_humphrey_data(input_path, fname, info_location_path, info_fname_dict):\n",
    "    humphrey_test_method=get_humphrey_test_method(input_path, fname, info_location_path, info_fname_dict)\n",
    "    for key in info_fname_dict.keys():\n",
    "        if key in humphrey_test_method: \n",
    "            info_fname=info_fname_dict[key]\n",
    "    df=read_one_Humphrey_data(input_path, fname, info_location_path, info_fname)\n",
    "    return df"
   ]
  },
  {
   "cell_type": "markdown",
   "metadata": {},
   "source": [
    "## 清洗数据"
   ]
  },
  {
   "cell_type": "code",
   "execution_count": 7,
   "metadata": {},
   "outputs": [],
   "source": [
    "def clean_data(df):\n",
    "    df[\"patient\"]=df[\"patient\"].str.replace(\",\",\"\")\n",
    "    df[\"date of birth\"]=pd.to_datetime(df[\"date of birth\"])\n",
    "    df[\"gender\"]=(df[\"gender\"]\n",
    "                  .str.replace(\"其他\",\"Other\")\n",
    "                  .str.replace(\"女性\",\"Female\")\n",
    "                  .str.replace(\"男性\",\"Male\")\n",
    "                 )\n",
    "    df[\"date\"]=pd.to_datetime(df[\"date\"])\n",
    "    # 将字符串转换为数字\n",
    "    # 带有最多一个负号, 跟至少一个数字, 带有最多一个小数点, 小数点后有或者没有数字\n",
    "    for col in df.iloc[:,7:]:\n",
    "        df[col]=df[col].str.extract('(\\-{,1}\\d+\\.{,1}\\d*)').astype(\"float\") \n",
    "    return df"
   ]
  },
  {
   "cell_type": "markdown",
   "metadata": {},
   "source": [
    "# 处理目录"
   ]
  },
  {
   "cell_type": "code",
   "execution_count": 8,
   "metadata": {},
   "outputs": [],
   "source": [
    "if __name__==\"__main__\":\n",
    "\n",
    "    pdffiles = [name for name in os.listdir(input_path)\n",
    "            if name.endswith('.pdf')]\n",
    "    df=DataFrame()\n",
    "    for fname in pdffiles:\n",
    "        newdf=get_full_humphrey_data(input_path, fname, info_location_path, info_fname_dict)\n",
    "        newdf=clean_data(newdf)\n",
    "        df=df.append(newdf, sort=False)\n",
    "    df.to_csv(os.path.join(output_path,\"Humphrey_data.csv\"))"
   ]
  }
 ],
 "metadata": {
  "kernelspec": {
   "display_name": "Python 3",
   "language": "python",
   "name": "python3"
  },
  "language_info": {
   "codemirror_mode": {
    "name": "ipython",
    "version": 3
   },
   "file_extension": ".py",
   "mimetype": "text/x-python",
   "name": "python",
   "nbconvert_exporter": "python",
   "pygments_lexer": "ipython3",
   "version": "3.5.5"
  }
 },
 "nbformat": 4,
 "nbformat_minor": 2
}
