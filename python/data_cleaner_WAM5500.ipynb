{
 "cells": [
  {
   "cell_type": "markdown",
   "metadata": {},
   "source": [
    "# WAM5500数据的清理器"
   ]
  },
  {
   "cell_type": "code",
   "execution_count": 1,
   "metadata": {
    "ExecuteTime": {
     "end_time": "2018-05-14T08:03:17.726086Z",
     "start_time": "2018-05-14T08:03:17.051725Z"
    }
   },
   "outputs": [],
   "source": [
    "import pandas as pd\n",
    "import numpy as np\n",
    "import os"
   ]
  },
  {
   "cell_type": "code",
   "execution_count": 2,
   "metadata": {
    "ExecuteTime": {
     "end_time": "2018-05-14T08:03:17.789593Z",
     "start_time": "2018-05-14T08:03:17.734275Z"
    }
   },
   "outputs": [],
   "source": [
    "if __name__==\"__main__\":\n",
    "    from read_medical_data import read_medical_data\n",
    "    dpath=os.path.join(\"..\",\"testdata\")\n",
    "    dfname=\"WAM5500.csv\"\n",
    "    datafilename=os.path.join(dpath,dfname)\n",
    "    \n",
    "    jpath=os.path.join(\"..\",\"medical_device_data\")\n",
    "    jname=\"GrandSeikoWAM5500.json\"\n",
    "    jsonfilename=os.path.join(jpath,jname)\n",
    "    data=read_medical_data(datafilename,\"all\",jsonfilename)"
   ]
  },
  {
   "cell_type": "markdown",
   "metadata": {},
   "source": [
    "按照时间裁剪\n",
    "测量的时间通常比所需要的时间长, 因此需要按照裁剪出指定时长的数据. 由于有可能存在数据点丢失, 所以指定时长的数据可能数量并不相等, 需要补齐."
   ]
  },
  {
   "cell_type": "code",
   "execution_count": 35,
   "metadata": {
    "ExecuteTime": {
     "end_time": "2018-05-14T08:18:12.967911Z",
     "start_time": "2018-05-14T08:18:12.954312Z"
    }
   },
   "outputs": [],
   "source": [
    "def generate_df(data):\n",
    "    df=pd.DataFrame()\n",
    "    df[\"time\"]=data[\"time\"].values.flatten()\n",
    "    df[\"power\"]=data[\"power\"].values.flatten()\n",
    "    df[\"pupil\"]=data[\"pupil\"].values.flatten()\n",
    "    return df.dropna()"
   ]
  },
  {
   "cell_type": "code",
   "execution_count": 14,
   "metadata": {
    "ExecuteTime": {
     "end_time": "2018-05-14T08:05:00.638659Z",
     "start_time": "2018-05-14T08:05:00.570980Z"
    }
   },
   "outputs": [],
   "source": [
    "def cut_by_time(df,start_time=0, duration=5):\n",
    "    # 获取一段时间内的数据\n",
    "    # 测量时间通常长于所需要的时间, 因此需要截取\n",
    "    start_timestamp=pd.to_datetime(start_time,unit='s')\n",
    "    end_timestamp=pd.to_datetime(start_time+duration,unit=\"s\")\n",
    "    df= df.where((df.time>=start_timestamp) & (df.time<=end_timestamp)).dropna()\n",
    "    \n",
    "    #将时间格式转换回float\n",
    "    df.time=pd.to_numeric(df.time)/10e8\n",
    "    return df\n",
    "\n",
    "def padding_time(df,duration=5,redundancy=5,padding_with=\"last\"):\n",
    "    # 将数据补齐\n",
    "    # 通常每秒有4-5个数据. \n",
    "    # 默认以最后一项补齐,否则以padding_with补齐\n",
    "    redundancy_length=duration*5+redundancy\n",
    "    add_length=redundancy_length-len(df)\n",
    "    if padding_with==\"last\":\n",
    "        padding_item=df.tail(1)\n",
    "    else:\n",
    "        padding_item=pd.DataFrame(np.ones((1,df.shape[1]))*padding_with,columns=df.columns)\n",
    "    df2=pd.concat([padding_item]*add_length)\n",
    "    new_df=df.append(df2).reset_index()[df.columns]\n",
    "    return new_df"
   ]
  },
  {
   "cell_type": "code",
   "execution_count": 63,
   "metadata": {
    "ExecuteTime": {
     "end_time": "2018-05-14T09:01:24.563542Z",
     "start_time": "2018-05-14T09:01:24.554150Z"
    }
   },
   "outputs": [],
   "source": [
    "def clean_WAM5500_data(data):\n",
    "    df=generate_df(data)\n",
    "    df=cut_by_time(df,start_time=0, duration=5)\n",
    "    df=padding_time(df,duration=5,redundancy=5,padding_with=\"last\")\n",
    "    df_dict={}\n",
    "    for col in df.columns:\n",
    "        df_dict[col]=df[col]\n",
    "    return df_dict"
   ]
  }
 ],
 "metadata": {
  "kernelspec": {
   "display_name": "Python 3",
   "language": "python",
   "name": "python3"
  },
  "language_info": {
   "codemirror_mode": {
    "name": "ipython",
    "version": 3
   },
   "file_extension": ".py",
   "mimetype": "text/x-python",
   "name": "python",
   "nbconvert_exporter": "python",
   "pygments_lexer": "ipython3",
   "version": "3.5.5"
  },
  "toc": {
   "colors": {
    "hover_highlight": "#DAA520",
    "navigate_num": "#000000",
    "navigate_text": "#333333",
    "running_highlight": "#FF0000",
    "selected_highlight": "#FFD700",
    "sidebar_border": "#EEEEEE",
    "wrapper_background": "#FFFFFF"
   },
   "moveMenuLeft": true,
   "nav_menu": {
    "height": "26px",
    "width": "254px"
   },
   "navigate_menu": true,
   "number_sections": true,
   "sideBar": true,
   "threshold": 4,
   "toc_cell": false,
   "toc_section_display": "block",
   "toc_window_display": false,
   "widenNotebook": false
  }
 },
 "nbformat": 4,
 "nbformat_minor": 2
}
