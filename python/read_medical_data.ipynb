{
 "cells": [
  {
   "cell_type": "markdown",
   "metadata": {},
   "source": [
    "# 通用读取函数"
   ]
  },
  {
   "cell_type": "code",
   "execution_count": 1,
   "metadata": {
    "ExecuteTime": {
     "end_time": "2018-05-06T05:42:01.094032Z",
     "start_time": "2018-05-06T05:42:00.390584Z"
    }
   },
   "outputs": [],
   "source": [
    "import pandas as pd\n",
    "from pandas import DataFrame\n",
    "import numpy as np\n",
    "import os\n",
    "import json\n",
    "from dlm import dlmread, dlmread_df\n",
    "from dlm import cellblock2num"
   ]
  },
  {
   "cell_type": "code",
   "execution_count": 2,
   "metadata": {
    "ExecuteTime": {
     "end_time": "2018-05-06T05:42:01.102730Z",
     "start_time": "2018-05-06T05:42:01.097271Z"
    }
   },
   "outputs": [],
   "source": [
    "def max_column(catalog_dict):\n",
    "    borders=[cellblock2num(v[\"location\"])[3] for k,v in catalog_dict.items() ]\n",
    "    return max(borders)+1"
   ]
  },
  {
   "cell_type": "code",
   "execution_count": 3,
   "metadata": {
    "ExecuteTime": {
     "end_time": "2018-05-06T05:42:01.118414Z",
     "start_time": "2018-05-06T05:42:01.106769Z"
    }
   },
   "outputs": [],
   "source": [
    "def open_data_file(data_file,json_data_file):\n",
    "    with open(json_data_file, 'r') as f:\n",
    "        json_data = json.load(f)\n",
    "    sep=json_data[\"sep\"]\n",
    "    catalog_dict=json_data[\"catalog\"]\n",
    "    max_col=max_column(catalog_dict)\n",
    "    df=pd.read_csv(data_file,sep=sep,names=range(max_col),header=None)\n",
    "    return df,catalog_dict"
   ]
  },
  {
   "cell_type": "code",
   "execution_count": 4,
   "metadata": {
    "ExecuteTime": {
     "end_time": "2018-05-06T05:42:01.159221Z",
     "start_time": "2018-05-06T05:42:01.121955Z"
    }
   },
   "outputs": [],
   "source": [
    "def read_medical_data(data_file,catalog,json_data_file):\n",
    "    df, catalog_dict=open_data_file(data_file,json_data_file)\n",
    "    if type(catalog)==str:\n",
    "        if catalog.lower() != \"all\":\n",
    "            data=dlmread_df(df,catalog_dict[catalog][\"location\"],catalog_dict[catalog][\"dtype\"])\n",
    "        elif catalog.lower() == \"all\":\n",
    "            catalog=catalog_dict.keys()\n",
    "            data={cat:dlmread_df(df,catalog_dict[cat][\"location\"],catalog_dict[cat][\"dtype\"]) for cat in catalog}\n",
    "        elif type(catalog)==list:\n",
    "            data={cat:dlmread_df(df,catalog_dict[cat][\"location\"],catalog_dict[cat][\"dtype\"]) for cat in catalog}\n",
    "    return data\n",
    "    "
   ]
  },
  {
   "cell_type": "code",
   "execution_count": 5,
   "metadata": {
    "ExecuteTime": {
     "end_time": "2018-05-06T05:42:01.194328Z",
     "start_time": "2018-05-06T05:42:01.168133Z"
    }
   },
   "outputs": [],
   "source": [
    "def read_medical_data_one_by_one(data_file,catalog,json_data_file):\n",
    "    '''\n",
    "    从datafile中读取catalog所定义的数据块, 以pandas DataFrame的格式返回数据. \n",
    "    - datafile: 需要读取的数据文件, 例如\"病人ID.csv\"\n",
    "    - catalog:  需要读取的数据块类型, 例如角膜地形图前表面数据\"FRONT\"\n",
    "    - jsondatafile: 用于描述设备文件的json文件, 规定了每个类型所对应的数据块\n",
    "    '''\n",
    "    \n",
    "    catalog_dict= pd.read_json(json_data_file,typ = 'series')\n",
    "    with open(data_file,'rt') as f: \n",
    "#     if True:\n",
    "#         f=data_file\n",
    "        if type(catalog)==str:\n",
    "            if catalog.lower() != \"all\":\n",
    "                data=dlmread(f,';',catalog_dict[catalog])\n",
    "            elif catalog.lower() == \"all\":\n",
    "                catalog=catalog_dict.keys()\n",
    "                data={cat:dlmread(f,';',catalog_dict[cat]) for cat in catalog}\n",
    "        elif type(catalog)==list:\n",
    "            data={cat:dlmread(f,';',catalog_dict[cat]) for cat in catalog}\n",
    "    return data"
   ]
  },
  {
   "cell_type": "code",
   "execution_count": 13,
   "metadata": {
    "ExecuteTime": {
     "end_time": "2018-05-06T05:44:20.032442Z",
     "start_time": "2018-05-06T05:44:19.991712Z"
    }
   },
   "outputs": [
    {
     "name": "stdout",
     "output_type": "stream",
     "text": [
      "        3\n",
      "1   -4.74\n",
      "2   -4.21\n",
      "3   -4.63\n",
      "4   -4.68\n",
      "5   -4.21\n",
      "6   -4.66\n",
      "7   -4.72\n",
      "8   -4.37\n",
      "9   -4.73\n",
      "10  -4.29\n",
      "11  -4.63\n",
      "12  -4.70\n",
      "13  -4.33\n",
      "14  -4.27\n",
      "15  -4.28\n",
      "16  -4.34\n",
      "17  -4.72\n",
      "18  -4.39\n",
      "19  -4.73\n",
      "20  -4.59\n",
      "21  -4.75\n",
      "22  -4.76\n",
      "23  -4.79\n",
      "24  -4.76\n",
      "25  -4.81\n",
      "26  -4.80\n",
      "27  -4.78\n",
      "28  -4.76\n",
      "29  -4.54\n",
      "30  -4.66\n",
      "..    ...\n",
      "271 -4.49\n",
      "272 -4.53\n",
      "273 -4.50\n",
      "274 -4.34\n",
      "275 -4.17\n",
      "276 -4.29\n",
      "277 -4.13\n",
      "278 -4.22\n",
      "279 -4.45\n",
      "280 -4.22\n",
      "281 -4.53\n",
      "282 -4.21\n",
      "283 -3.95\n",
      "284 -3.95\n",
      "285 -4.41\n",
      "286 -4.57\n",
      "287 -4.54\n",
      "288 -4.61\n",
      "289   NaN\n",
      "290 -4.54\n",
      "291 -4.29\n",
      "292 -4.60\n",
      "293 -4.49\n",
      "294 -4.45\n",
      "295 -4.45\n",
      "296 -4.26\n",
      "297 -4.44\n",
      "298 -4.42\n",
      "299 -4.14\n",
      "300 -4.35\n",
      "\n",
      "[300 rows x 1 columns]\n"
     ]
    }
   ],
   "source": [
    "# 测试用: \n",
    "if __name__==\"__main__\" and True:\n",
    "    dpath=os.path.join('..','testdata')\n",
    "    dname='WAM5500.csv'\n",
    "\n",
    "    datafilename=os.path.join(dpath,dname)\n",
    "\n",
    "#     catalog='CornealThickness'\n",
    "#     catalog=[\"TangentialAnterior\",\"TangentialPosterior\"]\n",
    "    catalog='all'\n",
    "    \n",
    "    jpath=os.path.join(\"..\",\"medical_device_data\")\n",
    "    jname=\"GrandSeikoWAM5500.json\"\n",
    "    jsonfilename=os.path.join(jpath,jname)\n",
    "    data=read_medical_data(datafilename,catalog,jsonfilename)\n",
    "    print(data[\"power\"])"
   ]
  },
  {
   "cell_type": "code",
   "execution_count": null,
   "metadata": {},
   "outputs": [],
   "source": []
  }
 ],
 "metadata": {
  "kernelspec": {
   "display_name": "Python 3",
   "language": "python",
   "name": "python3"
  },
  "language_info": {
   "codemirror_mode": {
    "name": "ipython",
    "version": 3
   },
   "file_extension": ".py",
   "mimetype": "text/x-python",
   "name": "python",
   "nbconvert_exporter": "python",
   "pygments_lexer": "ipython3",
   "version": "3.5.5"
  },
  "toc": {
   "colors": {
    "hover_highlight": "#DAA520",
    "navigate_num": "#000000",
    "navigate_text": "#333333",
    "running_highlight": "#FF0000",
    "selected_highlight": "#FFD700",
    "sidebar_border": "#EEEEEE",
    "wrapper_background": "#FFFFFF"
   },
   "moveMenuLeft": true,
   "nav_menu": {
    "height": "26px",
    "width": "254px"
   },
   "navigate_menu": true,
   "number_sections": true,
   "sideBar": true,
   "threshold": 4,
   "toc_cell": false,
   "toc_section_display": "block",
   "toc_window_display": false,
   "widenNotebook": false
  }
 },
 "nbformat": 4,
 "nbformat_minor": 2
}
