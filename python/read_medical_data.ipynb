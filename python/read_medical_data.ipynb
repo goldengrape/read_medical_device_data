{
 "cells": [
  {
   "cell_type": "markdown",
   "metadata": {},
   "source": [
    "# 通用读取函数"
   ]
  },
  {
   "cell_type": "markdown",
   "metadata": {},
   "source": [
    "根据每个设备的json描述文件, 读取csv数据文件中的数据. \n",
    "\n",
    "json描述文件: \n",
    "```json\n",
    "{\"sep\": csv文件的分隔符号\n",
    " \"category\": \n",
    "   {\n",
    "   \"数据类1\": {\"location\": 数据块位置, \"dtype\": 数据类型}, \n",
    "   \"数据类2\": {\"location\": \"A1..B3\", \"dtype\": \"numeric\"}, \n",
    "   ...\n",
    "   }\n",
    "}\n",
    "```"
   ]
  },
  {
   "cell_type": "code",
   "execution_count": 1,
   "metadata": {
    "ExecuteTime": {
     "end_time": "2018-05-06T06:14:48.419153Z",
     "start_time": "2018-05-06T06:14:47.830089Z"
    }
   },
   "outputs": [],
   "source": [
    "import pandas as pd\n",
    "from pandas import DataFrame\n",
    "import numpy as np\n",
    "import os\n",
    "import json\n",
    "from dlm import dlmread, dlmread_df\n",
    "from dlm import cellblock2num"
   ]
  },
  {
   "cell_type": "code",
   "execution_count": 2,
   "metadata": {
    "ExecuteTime": {
     "end_time": "2018-05-06T06:14:48.434902Z",
     "start_time": "2018-05-06T06:14:48.423023Z"
    }
   },
   "outputs": [],
   "source": [
    "def max_column(category_dict):\n",
    "    # 确定文件的最大列数. \n",
    "    # 形如\n",
    "    # 1, 2, 3\n",
    "    # 1, 2, 3, 4\n",
    "    # 这样的csv文件, 直接读取会出错, 需要设定所有的列名\n",
    "    borders=[cellblock2num(v[\"location\"])[3] for k,v in category_dict.items() ]\n",
    "    return max(borders)+1"
   ]
  },
  {
   "cell_type": "code",
   "execution_count": 3,
   "metadata": {
    "ExecuteTime": {
     "end_time": "2018-05-06T06:14:48.457362Z",
     "start_time": "2018-05-06T06:14:48.437631Z"
    }
   },
   "outputs": [],
   "source": [
    "def open_data_file(data_file,json_data_file):\n",
    "    with open(json_data_file, 'r') as f:\n",
    "        json_data = json.load(f)\n",
    "    sep=json_data[\"sep\"]\n",
    "    category_dict=json_data[\"category\"]\n",
    "    max_col=max_column(category_dict)\n",
    "    df=pd.read_csv(data_file,sep=sep,names=range(max_col),header=None)\n",
    "    return df,category_dict"
   ]
  },
  {
   "cell_type": "code",
   "execution_count": 4,
   "metadata": {
    "ExecuteTime": {
     "end_time": "2018-05-06T06:14:48.491460Z",
     "start_time": "2018-05-06T06:14:48.468988Z"
    }
   },
   "outputs": [],
   "source": [
    "def read_medical_data(data_file,category,json_data_file):\n",
    "    '''\n",
    "    从datafile中读取category所定义的数据块, 以pandas DataFrame的格式返回数据. \n",
    "    - datafile: 需要读取的数据文件, 例如\"病人ID.csv\"\n",
    "    - category:  需要读取的数据块类型, 例如角膜地形图前表面数据\"FRONT\"\n",
    "    - jsondatafile: 用于描述设备文件的json文件, 规定了每个类型所对应的数据块\n",
    "    如果提取的是多个数据块类型, 返回字典\n",
    "    '''\n",
    "    # 读取文件\n",
    "    df, category_dict=open_data_file(data_file,json_data_file)\n",
    "    # category可以是一个类别, 也可以是all描述为所有类别, 也可以是一个列表\n",
    "    if type(category)==str:\n",
    "        if category.lower() != \"all\": # 如果只是一个类别\n",
    "            data=dlmread_df(df,category_dict[category][\"location\"],category_dict[category][\"dtype\"])\n",
    "        elif category.lower() == \"all\": # 如果是all, 要提取所有类别\n",
    "            category=category_dict.keys()\n",
    "            data={cat:dlmread_df(df,category_dict[cat][\"location\"],category_dict[cat][\"dtype\"]) for cat in category}\n",
    "        elif type(category)==list: \n",
    "            data={cat:dlmread_df(df,category_dict[cat][\"location\"],category_dict[cat][\"dtype\"]) for cat in category}\n",
    "    return data\n",
    "    "
   ]
  },
  {
   "cell_type": "code",
   "execution_count": 5,
   "metadata": {
    "ExecuteTime": {
     "end_time": "2018-05-06T06:14:48.532942Z",
     "start_time": "2018-05-06T06:14:48.498393Z"
    }
   },
   "outputs": [],
   "source": [
    "def read_medical_data_one_by_one(data_file,catalog,json_data_file):\n",
    "    '''\n",
    "    从datafile中读取category所定义的数据块, 以pandas DataFrame的格式返回数据. \n",
    "    - datafile: 需要读取的数据文件, 例如\"病人ID.csv\"\n",
    "    - category:  需要读取的数据块类型, 例如角膜地形图前表面数据\"FRONT\"\n",
    "    - jsondatafile: 用于描述设备文件的json文件, 规定了每个类型所对应的数据块\n",
    "    '''\n",
    "    \n",
    "    catalog_dict= pd.read_json(json_data_file,typ = 'series')\n",
    "    with open(data_file,'rt') as f: \n",
    "#     if True:\n",
    "#         f=data_file\n",
    "        if type(catalog)==str:\n",
    "            if catalog.lower() != \"all\":\n",
    "                data=dlmread(f,';',catalog_dict[catalog])\n",
    "            elif catalog.lower() == \"all\":\n",
    "                catalog=catalog_dict.keys()\n",
    "                data={cat:dlmread(f,';',catalog_dict[cat]) for cat in catalog}\n",
    "        elif type(catalog)==list:\n",
    "            data={cat:dlmread(f,';',catalog_dict[cat]) for cat in catalog}\n",
    "    return data"
   ]
  },
  {
   "cell_type": "code",
   "execution_count": 18,
   "metadata": {
    "ExecuteTime": {
     "end_time": "2018-05-06T09:18:55.713492Z",
     "start_time": "2018-05-06T09:18:55.678076Z"
    }
   },
   "outputs": [
    {
     "name": "stdout",
     "output_type": "stream",
     "text": [
      "        1\n",
      "9    -2.6\n",
      "10    5.0\n",
      "11  104.0\n",
      "12  236.0\n",
      "13  138.0\n",
      "14  113.0\n",
      "15  148.0\n",
      "16   97.0\n",
      "17  104.0\n",
      "18   76.0\n",
      "19  110.0\n",
      "20  136.0\n",
      "21  172.0\n",
      "22  144.0\n",
      "23  236.0\n",
      "24   72.0\n",
      "25  166.0\n",
      "26  102.0\n",
      "27   54.0\n",
      "28  106.0\n"
     ]
    }
   ],
   "source": [
    "# 测试用: \n",
    "if __name__==\"__main__\" and True:\n",
    "    dpath=os.path.join('..','testdata',\"HRT\",\"csv\")\n",
    "    dname='HRT.csv'\n",
    "\n",
    "    datafilename=os.path.join(dpath,dname)\n",
    "\n",
    "#     category='CornealThickness'\n",
    "#     category=[\"TangentialAnterior\",\"TangentialPosterior\"]\n",
    "    category='all'\n",
    "    \n",
    "    jpath=os.path.join(\"..\",\"medical_device_data\")\n",
    "    jname=\"HRT.json\"\n",
    "    jsonfilename=os.path.join(jpath,jname)\n",
    "    data=read_medical_data(datafilename,category,jsonfilename)\n",
    "    print(data[\"OS_data\"])"
   ]
  },
  {
   "cell_type": "code",
   "execution_count": null,
   "metadata": {},
   "outputs": [],
   "source": []
  }
 ],
 "metadata": {
  "kernelspec": {
   "display_name": "Python 3",
   "language": "python",
   "name": "python3"
  },
  "language_info": {
   "codemirror_mode": {
    "name": "ipython",
    "version": 3
   },
   "file_extension": ".py",
   "mimetype": "text/x-python",
   "name": "python",
   "nbconvert_exporter": "python",
   "pygments_lexer": "ipython3",
   "version": "3.5.5"
  },
  "toc": {
   "colors": {
    "hover_highlight": "#DAA520",
    "navigate_num": "#000000",
    "navigate_text": "#333333",
    "running_highlight": "#FF0000",
    "selected_highlight": "#FFD700",
    "sidebar_border": "#EEEEEE",
    "wrapper_background": "#FFFFFF"
   },
   "moveMenuLeft": true,
   "nav_menu": {
    "height": "26px",
    "width": "254px"
   },
   "navigate_menu": true,
   "number_sections": true,
   "sideBar": true,
   "threshold": 4,
   "toc_cell": false,
   "toc_section_display": "block",
   "toc_window_display": false,
   "widenNotebook": false
  }
 },
 "nbformat": 4,
 "nbformat_minor": 2
}
