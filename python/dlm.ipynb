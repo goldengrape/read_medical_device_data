{
 "cells": [
  {
   "cell_type": "markdown",
   "metadata": {},
   "source": [
    "# 一组与MatLab类似的csv读取工具"
   ]
  },
  {
   "cell_type": "markdown",
   "metadata": {},
   "source": [
    "## 翻译单元格位置\n",
    "比如给定A1, 应返回R=1,C=1"
   ]
  },
  {
   "cell_type": "code",
   "execution_count": 7,
   "metadata": {
    "ExecuteTime": {
     "end_time": "2018-05-06T00:23:57.478368Z",
     "start_time": "2018-05-06T00:23:57.462458Z"
    }
   },
   "outputs": [],
   "source": [
    "import pandas as pd\n",
    "import re"
   ]
  },
  {
   "cell_type": "code",
   "execution_count": 8,
   "metadata": {
    "ExecuteTime": {
     "end_time": "2018-05-06T00:23:58.368662Z",
     "start_time": "2018-05-06T00:23:58.307736Z"
    }
   },
   "outputs": [],
   "source": [
    "def col2num(col_str):\n",
    "    \"\"\" Convert base26 column string to number. \"\"\"\n",
    "    expn = 0\n",
    "    col_num = 0\n",
    "    for char in reversed(col_str):\n",
    "        col_num += (ord(char) - ord('A') + 1) * (26 ** expn)\n",
    "        expn += 1\n",
    "\n",
    "    return col_num\n",
    "def cell2num(cellname):\n",
    "    col_letter=\"\".join(re.findall('[A-Z][a-z]*',cellname))\n",
    "    # 也可以不给出具体的终止位置, 这样将处理成整列读取\n",
    "    try:\n",
    "        col=int(col2num(col_letter))\n",
    "    except:\n",
    "        col=None\n",
    "    try:\n",
    "        row=int(\"\".join(re.findall('[0-9]*',cellname)))\n",
    "    except:\n",
    "        row=None\n",
    "    return (row,col)"
   ]
  },
  {
   "cell_type": "markdown",
   "metadata": {},
   "source": [
    "## 翻译单元格范围\n",
    "例如: A1..B5->[1,1,5,2]"
   ]
  },
  {
   "cell_type": "code",
   "execution_count": 9,
   "metadata": {
    "ExecuteTime": {
     "end_time": "2018-05-06T00:24:01.183400Z",
     "start_time": "2018-05-06T00:24:01.175738Z"
    }
   },
   "outputs": [],
   "source": [
    "def cellblock2num(cell_string):\n",
    "    cell_name=re.split('\\..',cell_string)\n",
    "    (r1,c1)=cell2num(cell_name[0])\n",
    "    (r2,c2)=cell2num(cell_name[1])\n",
    "    return(r1,c1,r2,c2)   "
   ]
  },
  {
   "cell_type": "markdown",
   "metadata": {},
   "source": [
    "## 构造dlmread\n",
    "仿照MatLab里面的dlmread\n",
    "```matlab\n",
    "M = dlmread(filename,delimiter,[R1 C1 R2 C2])\n",
    "```\n",
    "注意其中行列数字按照excel表格中的形式写, 首行=1, 首列=1. 否则一个大的表格数起来太麻烦了. "
   ]
  },
  {
   "cell_type": "code",
   "execution_count": 28,
   "metadata": {
    "ExecuteTime": {
     "end_time": "2018-05-06T00:28:03.459946Z",
     "start_time": "2018-05-06T00:28:03.424439Z"
    }
   },
   "outputs": [],
   "source": [
    "def dlmread(filename,delimiter, cell_block,header=None): # \n",
    "    (R1,C1,R2,C2)=cellblock2num(cell_block)\n",
    "    # 也可以不给出具体的终止位置, 这样将处理成整列读取\n",
    "    try:\n",
    "        filename.seek(0)\n",
    "    except:\n",
    "        pass\n",
    "    try:\n",
    "        s=range(R1-1)\n",
    "    except:\n",
    "        s=None\n",
    "    try: \n",
    "        n=R2-R1+1\n",
    "    except:\n",
    "        n=None\n",
    "    cols=range(C1-1,C2)\n",
    "    data=pd.read_csv(filename,\n",
    "                     sep=delimiter,\n",
    "                     skiprows=s,\n",
    "                     nrows=n,\n",
    "                     header=header,\n",
    "                     usecols=cols,\n",
    "                     memory_map=True\n",
    "                    )\n",
    "    return data"
   ]
  },
  {
   "cell_type": "code",
   "execution_count": null,
   "metadata": {},
   "outputs": [],
   "source": [
    "def dlmread_df(df, cell_block,dtype):  \n",
    "    # 已经载入DataFrame时, 读取其中的区域块, 并转换成相应的数据格式\n",
    "    (R1,C1,R2,C2)=cellblock2num(cell_block)\n",
    "    data = df.iloc[R1-1:R2,C1-1:C2]\n",
    "    if dtype==\"numeric\":\n",
    "        for col in data:\n",
    "            data[col]=pd.to_numeric(data[col],errors='coerce')\n",
    "    elif dtype==\"datetime\":\n",
    "        for col in data:\n",
    "            data[col]=pd.to_datetime(data[col],errors='coerce')\n",
    "    elif dtype==\"second\":\n",
    "        for col in data:\n",
    "            data[col]=pd.to_datetime(data[col],unit=\"s\",errors='coerce')\n",
    "    else:\n",
    "        for col in data:\n",
    "            data[col]=data[col].astype(dtype=\"str\").str.strip()\n",
    "    return data"
   ]
  },
  {
   "cell_type": "code",
   "execution_count": 29,
   "metadata": {
    "ExecuteTime": {
     "end_time": "2018-05-06T00:28:03.958057Z",
     "start_time": "2018-05-06T00:28:03.924068Z"
    }
   },
   "outputs": [
    {
     "name": "stdout",
     "output_type": "stream",
     "text": [
      "原始表格\n",
      "    0   1   2   3   4\n",
      "0  A1  B1  C1  D1 NaN\n",
      "1  A2  B2  C2  D2 NaN\n",
      "2  A3  B3  C3  D3 NaN\n",
      "3  A4  B4  C4  D4 NaN\n",
      "4  A5  B5  C5  D5 NaN\n",
      "部分读取\n",
      "    1\n",
      "0  B3\n",
      "1  B4\n",
      "2  B5\n"
     ]
    }
   ],
   "source": [
    "# 测试用, 测试开关使用and True: \n",
    "if __name__==\"__main__\" and True:\n",
    "    import os\n",
    "    fpath=os.path.join('..','testdata')\n",
    "    fname='standard.csv'\n",
    "    filename=os.path.join(fpath,fname)\n",
    "    standard_data=pd.read_csv(filename,header=None,sep=';')\n",
    "#     data=dlmread(filename,';',\"B1..C4\",header=None)\n",
    "    data=dlmread(filename,\";\",\"B3..B\",header=None)     # 也可以不给出具体的终止位置, 这样将处理成整列读取\n",
    "\n",
    "    print(\"原始表格\")\n",
    "    print(standard_data)\n",
    "    print(\"部分读取\")\n",
    "    print(data)"
   ]
  },
  {
   "cell_type": "code",
   "execution_count": null,
   "metadata": {},
   "outputs": [],
   "source": []
  }
 ],
 "metadata": {
  "kernelspec": {
   "display_name": "Python 3",
   "language": "python",
   "name": "python3"
  },
  "language_info": {
   "codemirror_mode": {
    "name": "ipython",
    "version": 3
   },
   "file_extension": ".py",
   "mimetype": "text/x-python",
   "name": "python",
   "nbconvert_exporter": "python",
   "pygments_lexer": "ipython3",
   "version": "3.5.5"
  },
  "toc": {
   "colors": {
    "hover_highlight": "#DAA520",
    "navigate_num": "#000000",
    "navigate_text": "#333333",
    "running_highlight": "#FF0000",
    "selected_highlight": "#FFD700",
    "sidebar_border": "#EEEEEE",
    "wrapper_background": "#FFFFFF"
   },
   "moveMenuLeft": true,
   "nav_menu": {
    "height": "124px",
    "width": "254px"
   },
   "navigate_menu": true,
   "number_sections": true,
   "sideBar": true,
   "threshold": 4,
   "toc_cell": false,
   "toc_section_display": "block",
   "toc_window_display": false,
   "widenNotebook": false
  }
 },
 "nbformat": 4,
 "nbformat_minor": 2
}
